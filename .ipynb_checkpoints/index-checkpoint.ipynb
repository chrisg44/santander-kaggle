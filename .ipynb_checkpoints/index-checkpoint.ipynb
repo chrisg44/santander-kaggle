{
 "cells": [
  {
   "cell_type": "markdown",
   "metadata": {},
   "source": [
    "# Project Overview"
   ]
  },
  {
   "cell_type": "markdown",
   "metadata": {},
   "source": [
    "The dataset chosen for this project is the Santander competiton datset. The intention of this project is to demonstrate how to structure a data science pipeline to access remote processing power, in this case an instance on AWS. This is not necessarily required to enable this project to be effectively completed.\n",
    "\n",
    "Project aims:\n",
    "\n",
    "    -Submit a competition entry on Kaggle\n",
    "    -Demonstrate appropriate application of classification techniques\n",
    "    -Demonstrate use of virtual processing power"
   ]
  },
  {
   "cell_type": "markdown",
   "metadata": {},
   "source": [
    "# Environment Setup"
   ]
  },
  {
   "cell_type": "markdown",
   "metadata": {},
   "source": [
    "### Part 1: Creating a virtual environment for the project locally\n",
    "\n",
    "To contain this project a seperate virtual environment will be setup, the purpose of this environment is to enable development of code which will be then pushed to AWS for running models. The code is displayed here for reference however is executed in Anaconda Prompt."
   ]
  },
  {
   "cell_type": "markdown",
   "metadata": {},
   "source": [
    "conda create -n mod3_env python=3.7 anaconda"
   ]
  },
  {
   "cell_type": "markdown",
   "metadata": {},
   "source": [
    "**Specific packages required not contained within Anaconda**\n",
    "\n",
    "    pip install Kaggle\n",
    "    Conda install py-xgboost "
   ]
  },
  {
   "cell_type": "markdown",
   "metadata": {},
   "source": [
    "**Kaggle setup**\n",
    "\n",
    "To use the Kaggle API to access the data set first the Kaggle package must be setup with the appropriate credentials and API key. Details of how to do this are located at: https://github.com/Kaggle/kaggle-api This will become important when using AWS and directly accessing the dataset."
   ]
  },
  {
   "cell_type": "markdown",
   "metadata": {},
   "source": [
    "### Part 2: Setting up an AWS instance"
   ]
  },
  {
   "cell_type": "markdown",
   "metadata": {},
   "source": [
    "Please see blog link above for detailed instructions on how to setup an appropriate instance."
   ]
  },
  {
   "cell_type": "markdown",
   "metadata": {},
   "source": [
    "#### Commands to be run in AWS\n",
    "\n",
    "As for local development a specific virtual environment will be created on the AWS instance. The instance will be Linux with miniconda installed to minimise unnecessary packages. "
   ]
  },
  {
   "cell_type": "markdown",
   "metadata": {},
   "source": [
    "conda create -n mod3_env python=3.7"
   ]
  },
  {
   "cell_type": "markdown",
   "metadata": {},
   "source": [
    "conda activate mod3_env"
   ]
  },
  {
   "cell_type": "markdown",
   "metadata": {},
   "source": [
    "**Specific packages to install** \n",
    "\n",
    "    pip install Kaggle \n",
    "    conda install pandas \n",
    "    conda install numpy \n",
    "    conda install scikit-learn \n",
    "    conda install py-xgboost "
   ]
  },
  {
   "cell_type": "markdown",
   "metadata": {},
   "source": [
    "### Part 3: Notebook Setup"
   ]
  },
  {
   "cell_type": "markdown",
   "metadata": {},
   "source": [
    "Testing and development of the various components to be run on the AWS instance will be completed in this Jupyter Notebook. Here the relevant packages will be imported."
   ]
  },
  {
   "cell_type": "code",
   "execution_count": 1,
   "metadata": {},
   "outputs": [],
   "source": [
    "import numpy as np\n",
    "import pandas as pd\n",
    "import matplotlib.pyplot as plt\n",
    "import seaborn as sns\n",
    "\n",
    "import gc\n",
    "\n",
    "from scipy.stats.mstats import normaltest\n",
    "from sklearn.model_selection import train_test_split, GridSearchCV \n",
    "from sklearn.preprocessing import StandardScaler, QuantileTransformer\n",
    "from sklearn.metrics import roc_curve, auc\n",
    "from sklearn.neighbors import KNeighborsClassifier \n",
    "from sklearn.metrics import confusion_matrix\n",
    "\n",
    "import itertools\n",
    "from imblearn.over_sampling import SMOTE\n",
    "import xgboost as xgb\n",
    "import time\n",
    "\n"
   ]
  },
  {
   "cell_type": "markdown",
   "metadata": {},
   "source": [
    "# Obtain"
   ]
  },
  {
   "cell_type": "markdown",
   "metadata": {},
   "source": [
    "The data set is provided by Kaggle, as detailed above the Kaggle API will be used to directly download the data set into the local directory. The "
   ]
  },
  {
   "cell_type": "code",
   "execution_count": null,
   "metadata": {},
   "outputs": [],
   "source": [
    "import json\n",
    "\n",
    "with open('kaggle.json') as f:\n",
    "    kaggle_key = json.load(f)\n",
    "\n",
    "print(kaggle_key)"
   ]
  },
  {
   "cell_type": "code",
   "execution_count": null,
   "metadata": {},
   "outputs": [],
   "source": [
    "from kaggle.api.kaggle_api_extended import KaggleApi\n",
    "\n",
    "api = KaggleApi(kaggle_key)\n",
    "api.authenticate()\n",
    "files = api.competition_download_files(\"santander-customer-transaction-prediction\")"
   ]
  },
  {
   "cell_type": "markdown",
   "metadata": {},
   "source": [
    "### Packaged for deployment\n",
    "\n",
    "The following will be saved as import.py and then run on the AWS instance to import the data."
   ]
  },
  {
   "cell_type": "code",
   "execution_count": null,
   "metadata": {},
   "outputs": [],
   "source": [
    "import json\n",
    "from kaggle.api.kaggle_api_extended import KaggleApi\n",
    "\n",
    "with open('kaggle.json') as f:\n",
    "    kaggle_key = json.load(f)\n",
    "\n",
    "print(kaggle_key)\n",
    "\n",
    "\n",
    "\n",
    "api = KaggleApi(kaggle_key)\n",
    "api.authenticate()\n",
    "files = api.competition_download_files(\"santander-customer-transaction-prediction\")"
   ]
  },
  {
   "cell_type": "markdown",
   "metadata": {},
   "source": [
    "The structure of this project will be to take a random sample (10%) of the dataset to enable development of the various components to  scrub, explore, model and interpret. Theses components will then be run with the full dataset on the AWS instance."
   ]
  },
  {
   "cell_type": "code",
   "execution_count": 2,
   "metadata": {},
   "outputs": [],
   "source": [
    "df = pd.read_csv('train.csv.zip', index_col = 'ID_code')"
   ]
  },
  {
   "cell_type": "markdown",
   "metadata": {},
   "source": [
    "As can be identified of the 202 variables 2 are not predictors, the target and the ID_code. These will be seperated and assigned as the index respectively"
   ]
  },
  {
   "cell_type": "code",
   "execution_count": 3,
   "metadata": {
    "scrolled": true
   },
   "outputs": [
    {
     "data": {
      "text/html": [
       "<div>\n",
       "<style scoped>\n",
       "    .dataframe tbody tr th:only-of-type {\n",
       "        vertical-align: middle;\n",
       "    }\n",
       "\n",
       "    .dataframe tbody tr th {\n",
       "        vertical-align: top;\n",
       "    }\n",
       "\n",
       "    .dataframe thead th {\n",
       "        text-align: right;\n",
       "    }\n",
       "</style>\n",
       "<table border=\"1\" class=\"dataframe\">\n",
       "  <thead>\n",
       "    <tr style=\"text-align: right;\">\n",
       "      <th></th>\n",
       "      <th>target</th>\n",
       "      <th>var_0</th>\n",
       "      <th>var_1</th>\n",
       "      <th>var_2</th>\n",
       "      <th>var_3</th>\n",
       "      <th>var_4</th>\n",
       "      <th>var_5</th>\n",
       "      <th>var_6</th>\n",
       "      <th>var_7</th>\n",
       "      <th>var_8</th>\n",
       "      <th>...</th>\n",
       "      <th>var_190</th>\n",
       "      <th>var_191</th>\n",
       "      <th>var_192</th>\n",
       "      <th>var_193</th>\n",
       "      <th>var_194</th>\n",
       "      <th>var_195</th>\n",
       "      <th>var_196</th>\n",
       "      <th>var_197</th>\n",
       "      <th>var_198</th>\n",
       "      <th>var_199</th>\n",
       "    </tr>\n",
       "    <tr>\n",
       "      <th>ID_code</th>\n",
       "      <th></th>\n",
       "      <th></th>\n",
       "      <th></th>\n",
       "      <th></th>\n",
       "      <th></th>\n",
       "      <th></th>\n",
       "      <th></th>\n",
       "      <th></th>\n",
       "      <th></th>\n",
       "      <th></th>\n",
       "      <th></th>\n",
       "      <th></th>\n",
       "      <th></th>\n",
       "      <th></th>\n",
       "      <th></th>\n",
       "      <th></th>\n",
       "      <th></th>\n",
       "      <th></th>\n",
       "      <th></th>\n",
       "      <th></th>\n",
       "      <th></th>\n",
       "    </tr>\n",
       "  </thead>\n",
       "  <tbody>\n",
       "    <tr>\n",
       "      <th>train_0</th>\n",
       "      <td>0</td>\n",
       "      <td>8.9255</td>\n",
       "      <td>-6.7863</td>\n",
       "      <td>11.9081</td>\n",
       "      <td>5.0930</td>\n",
       "      <td>11.4607</td>\n",
       "      <td>-9.2834</td>\n",
       "      <td>5.1187</td>\n",
       "      <td>18.6266</td>\n",
       "      <td>-4.9200</td>\n",
       "      <td>...</td>\n",
       "      <td>4.4354</td>\n",
       "      <td>3.9642</td>\n",
       "      <td>3.1364</td>\n",
       "      <td>1.6910</td>\n",
       "      <td>18.5227</td>\n",
       "      <td>-2.3978</td>\n",
       "      <td>7.8784</td>\n",
       "      <td>8.5635</td>\n",
       "      <td>12.7803</td>\n",
       "      <td>-1.0914</td>\n",
       "    </tr>\n",
       "    <tr>\n",
       "      <th>train_1</th>\n",
       "      <td>0</td>\n",
       "      <td>11.5006</td>\n",
       "      <td>-4.1473</td>\n",
       "      <td>13.8588</td>\n",
       "      <td>5.3890</td>\n",
       "      <td>12.3622</td>\n",
       "      <td>7.0433</td>\n",
       "      <td>5.6208</td>\n",
       "      <td>16.5338</td>\n",
       "      <td>3.1468</td>\n",
       "      <td>...</td>\n",
       "      <td>7.6421</td>\n",
       "      <td>7.7214</td>\n",
       "      <td>2.5837</td>\n",
       "      <td>10.9516</td>\n",
       "      <td>15.4305</td>\n",
       "      <td>2.0339</td>\n",
       "      <td>8.1267</td>\n",
       "      <td>8.7889</td>\n",
       "      <td>18.3560</td>\n",
       "      <td>1.9518</td>\n",
       "    </tr>\n",
       "    <tr>\n",
       "      <th>train_2</th>\n",
       "      <td>0</td>\n",
       "      <td>8.6093</td>\n",
       "      <td>-2.7457</td>\n",
       "      <td>12.0805</td>\n",
       "      <td>7.8928</td>\n",
       "      <td>10.5825</td>\n",
       "      <td>-9.0837</td>\n",
       "      <td>6.9427</td>\n",
       "      <td>14.6155</td>\n",
       "      <td>-4.9193</td>\n",
       "      <td>...</td>\n",
       "      <td>2.9057</td>\n",
       "      <td>9.7905</td>\n",
       "      <td>1.6704</td>\n",
       "      <td>1.6858</td>\n",
       "      <td>21.6042</td>\n",
       "      <td>3.1417</td>\n",
       "      <td>-6.5213</td>\n",
       "      <td>8.2675</td>\n",
       "      <td>14.7222</td>\n",
       "      <td>0.3965</td>\n",
       "    </tr>\n",
       "    <tr>\n",
       "      <th>train_3</th>\n",
       "      <td>0</td>\n",
       "      <td>11.0604</td>\n",
       "      <td>-2.1518</td>\n",
       "      <td>8.9522</td>\n",
       "      <td>7.1957</td>\n",
       "      <td>12.5846</td>\n",
       "      <td>-1.8361</td>\n",
       "      <td>5.8428</td>\n",
       "      <td>14.9250</td>\n",
       "      <td>-5.8609</td>\n",
       "      <td>...</td>\n",
       "      <td>4.4666</td>\n",
       "      <td>4.7433</td>\n",
       "      <td>0.7178</td>\n",
       "      <td>1.4214</td>\n",
       "      <td>23.0347</td>\n",
       "      <td>-1.2706</td>\n",
       "      <td>-2.9275</td>\n",
       "      <td>10.2922</td>\n",
       "      <td>17.9697</td>\n",
       "      <td>-8.9996</td>\n",
       "    </tr>\n",
       "    <tr>\n",
       "      <th>train_4</th>\n",
       "      <td>0</td>\n",
       "      <td>9.8369</td>\n",
       "      <td>-1.4834</td>\n",
       "      <td>12.8746</td>\n",
       "      <td>6.6375</td>\n",
       "      <td>12.2772</td>\n",
       "      <td>2.4486</td>\n",
       "      <td>5.9405</td>\n",
       "      <td>19.2514</td>\n",
       "      <td>6.2654</td>\n",
       "      <td>...</td>\n",
       "      <td>-1.4905</td>\n",
       "      <td>9.5214</td>\n",
       "      <td>-0.1508</td>\n",
       "      <td>9.1942</td>\n",
       "      <td>13.2876</td>\n",
       "      <td>-1.5121</td>\n",
       "      <td>3.9267</td>\n",
       "      <td>9.5031</td>\n",
       "      <td>17.9974</td>\n",
       "      <td>-8.8104</td>\n",
       "    </tr>\n",
       "  </tbody>\n",
       "</table>\n",
       "<p>5 rows × 201 columns</p>\n",
       "</div>"
      ],
      "text/plain": [
       "         target    var_0   var_1    var_2   var_3    var_4   var_5   var_6  \\\n",
       "ID_code                                                                      \n",
       "train_0       0   8.9255 -6.7863  11.9081  5.0930  11.4607 -9.2834  5.1187   \n",
       "train_1       0  11.5006 -4.1473  13.8588  5.3890  12.3622  7.0433  5.6208   \n",
       "train_2       0   8.6093 -2.7457  12.0805  7.8928  10.5825 -9.0837  6.9427   \n",
       "train_3       0  11.0604 -2.1518   8.9522  7.1957  12.5846 -1.8361  5.8428   \n",
       "train_4       0   9.8369 -1.4834  12.8746  6.6375  12.2772  2.4486  5.9405   \n",
       "\n",
       "           var_7   var_8   ...     var_190  var_191  var_192  var_193  \\\n",
       "ID_code                    ...                                          \n",
       "train_0  18.6266 -4.9200   ...      4.4354   3.9642   3.1364   1.6910   \n",
       "train_1  16.5338  3.1468   ...      7.6421   7.7214   2.5837  10.9516   \n",
       "train_2  14.6155 -4.9193   ...      2.9057   9.7905   1.6704   1.6858   \n",
       "train_3  14.9250 -5.8609   ...      4.4666   4.7433   0.7178   1.4214   \n",
       "train_4  19.2514  6.2654   ...     -1.4905   9.5214  -0.1508   9.1942   \n",
       "\n",
       "         var_194  var_195  var_196  var_197  var_198  var_199  \n",
       "ID_code                                                        \n",
       "train_0  18.5227  -2.3978   7.8784   8.5635  12.7803  -1.0914  \n",
       "train_1  15.4305   2.0339   8.1267   8.7889  18.3560   1.9518  \n",
       "train_2  21.6042   3.1417  -6.5213   8.2675  14.7222   0.3965  \n",
       "train_3  23.0347  -1.2706  -2.9275  10.2922  17.9697  -8.9996  \n",
       "train_4  13.2876  -1.5121   3.9267   9.5031  17.9974  -8.8104  \n",
       "\n",
       "[5 rows x 201 columns]"
      ]
     },
     "execution_count": 3,
     "metadata": {},
     "output_type": "execute_result"
    }
   ],
   "source": [
    "df.head()"
   ]
  },
  {
   "cell_type": "code",
   "execution_count": 4,
   "metadata": {
    "scrolled": true
   },
   "outputs": [
    {
     "name": "stdout",
     "output_type": "stream",
     "text": [
      "<class 'pandas.core.frame.DataFrame'>\n",
      "Index: 200000 entries, train_0 to train_199999\n",
      "Columns: 201 entries, target to var_199\n",
      "dtypes: float64(200), int64(1)\n",
      "memory usage: 308.2+ MB\n"
     ]
    }
   ],
   "source": [
    "df.info()"
   ]
  },
  {
   "cell_type": "markdown",
   "metadata": {},
   "source": [
    "As the file has a large memory usage, 308+ MB only a 10% sample will be used in generating the modules for use."
   ]
  },
  {
   "cell_type": "markdown",
   "metadata": {},
   "source": [
    "To get the random 10% of the data set the sklearn train test split will be used. This however is not creating a train test split, only selecting a portion  of the data. The train test split will be conducted later."
   ]
  },
  {
   "cell_type": "code",
   "execution_count": 5,
   "metadata": {},
   "outputs": [],
   "source": [
    "X, unused_X, y, unused_y = train_test_split(df.drop('target',axis=1), df.target, random_state=100, test_size=0.9) "
   ]
  },
  {
   "cell_type": "markdown",
   "metadata": {},
   "source": [
    "This sample is now exported for testing the AWS environment"
   ]
  },
  {
   "cell_type": "code",
   "execution_count": null,
   "metadata": {},
   "outputs": [],
   "source": [
    "df_sample = X.join(pd.DataFrame(y))"
   ]
  },
  {
   "cell_type": "code",
   "execution_count": null,
   "metadata": {},
   "outputs": [],
   "source": [
    "df_sample.to_csv('sample.csv')"
   ]
  },
  {
   "cell_type": "markdown",
   "metadata": {},
   "source": [
    "Now the original dataframe will be deleted from memory to provide space for later computation and speed up the running of the notebook."
   ]
  },
  {
   "cell_type": "code",
   "execution_count": null,
   "metadata": {
    "scrolled": false
   },
   "outputs": [],
   "source": [
    "to_delete = [unused_X, unused_y, df, df_sample]\n",
    "del to_delete\n",
    "gc.collect()"
   ]
  },
  {
   "cell_type": "code",
   "execution_count": 6,
   "metadata": {},
   "outputs": [
    {
     "name": "stdout",
     "output_type": "stream",
     "text": [
      "<class 'pandas.core.frame.DataFrame'>\n",
      "Index: 20000 entries, train_47169 to train_38408\n",
      "Columns: 200 entries, var_0 to var_199\n",
      "dtypes: float64(200)\n",
      "memory usage: 30.7+ MB\n"
     ]
    }
   ],
   "source": [
    "X.info()"
   ]
  },
  {
   "cell_type": "markdown",
   "metadata": {},
   "source": [
    "Now checking the size of the df at only 30MB it is far more usable"
   ]
  },
  {
   "cell_type": "markdown",
   "metadata": {},
   "source": [
    "# Scrub"
   ]
  },
  {
   "cell_type": "markdown",
   "metadata": {},
   "source": [
    "## Pass 1"
   ]
  },
  {
   "cell_type": "markdown",
   "metadata": {},
   "source": [
    "The following checks will be made of the dataset to confirm the quality of the data, with 200 predictor variables it is important to as far as possible automate these checks, this will also ensure that when running these check on the AWS instance a clear decision can be made on the quality of the data."
   ]
  },
  {
   "cell_type": "code",
   "execution_count": 7,
   "metadata": {
    "scrolled": false
   },
   "outputs": [
    {
     "data": {
      "text/html": [
       "<div>\n",
       "<style scoped>\n",
       "    .dataframe tbody tr th:only-of-type {\n",
       "        vertical-align: middle;\n",
       "    }\n",
       "\n",
       "    .dataframe tbody tr th {\n",
       "        vertical-align: top;\n",
       "    }\n",
       "\n",
       "    .dataframe thead th {\n",
       "        text-align: right;\n",
       "    }\n",
       "</style>\n",
       "<table border=\"1\" class=\"dataframe\">\n",
       "  <thead>\n",
       "    <tr style=\"text-align: right;\">\n",
       "      <th></th>\n",
       "      <th>var_0</th>\n",
       "      <th>var_1</th>\n",
       "      <th>var_2</th>\n",
       "      <th>var_3</th>\n",
       "      <th>var_4</th>\n",
       "      <th>var_5</th>\n",
       "      <th>var_6</th>\n",
       "      <th>var_7</th>\n",
       "      <th>var_8</th>\n",
       "      <th>var_9</th>\n",
       "      <th>...</th>\n",
       "      <th>var_190</th>\n",
       "      <th>var_191</th>\n",
       "      <th>var_192</th>\n",
       "      <th>var_193</th>\n",
       "      <th>var_194</th>\n",
       "      <th>var_195</th>\n",
       "      <th>var_196</th>\n",
       "      <th>var_197</th>\n",
       "      <th>var_198</th>\n",
       "      <th>var_199</th>\n",
       "    </tr>\n",
       "    <tr>\n",
       "      <th>ID_code</th>\n",
       "      <th></th>\n",
       "      <th></th>\n",
       "      <th></th>\n",
       "      <th></th>\n",
       "      <th></th>\n",
       "      <th></th>\n",
       "      <th></th>\n",
       "      <th></th>\n",
       "      <th></th>\n",
       "      <th></th>\n",
       "      <th></th>\n",
       "      <th></th>\n",
       "      <th></th>\n",
       "      <th></th>\n",
       "      <th></th>\n",
       "      <th></th>\n",
       "      <th></th>\n",
       "      <th></th>\n",
       "      <th></th>\n",
       "      <th></th>\n",
       "      <th></th>\n",
       "    </tr>\n",
       "  </thead>\n",
       "  <tbody>\n",
       "    <tr>\n",
       "      <th>train_47169</th>\n",
       "      <td>12.5222</td>\n",
       "      <td>0.9528</td>\n",
       "      <td>8.0756</td>\n",
       "      <td>8.2170</td>\n",
       "      <td>10.0582</td>\n",
       "      <td>-2.1742</td>\n",
       "      <td>6.3128</td>\n",
       "      <td>15.5889</td>\n",
       "      <td>6.5716</td>\n",
       "      <td>5.9571</td>\n",
       "      <td>...</td>\n",
       "      <td>9.2025</td>\n",
       "      <td>5.9316</td>\n",
       "      <td>3.0285</td>\n",
       "      <td>5.9117</td>\n",
       "      <td>23.2794</td>\n",
       "      <td>-2.3842</td>\n",
       "      <td>14.1623</td>\n",
       "      <td>9.3543</td>\n",
       "      <td>14.2417</td>\n",
       "      <td>-5.0458</td>\n",
       "    </tr>\n",
       "    <tr>\n",
       "      <th>train_155550</th>\n",
       "      <td>14.0709</td>\n",
       "      <td>-6.1488</td>\n",
       "      <td>8.3043</td>\n",
       "      <td>8.9169</td>\n",
       "      <td>10.2091</td>\n",
       "      <td>-19.6673</td>\n",
       "      <td>4.8147</td>\n",
       "      <td>17.1123</td>\n",
       "      <td>-4.9200</td>\n",
       "      <td>7.3672</td>\n",
       "      <td>...</td>\n",
       "      <td>-0.6122</td>\n",
       "      <td>9.8561</td>\n",
       "      <td>2.1240</td>\n",
       "      <td>4.2462</td>\n",
       "      <td>19.7968</td>\n",
       "      <td>-1.4454</td>\n",
       "      <td>1.1993</td>\n",
       "      <td>9.9167</td>\n",
       "      <td>21.7781</td>\n",
       "      <td>-2.0514</td>\n",
       "    </tr>\n",
       "    <tr>\n",
       "      <th>train_172332</th>\n",
       "      <td>9.8112</td>\n",
       "      <td>-4.1240</td>\n",
       "      <td>12.0592</td>\n",
       "      <td>4.9941</td>\n",
       "      <td>11.9665</td>\n",
       "      <td>-3.8638</td>\n",
       "      <td>6.2426</td>\n",
       "      <td>21.3797</td>\n",
       "      <td>3.5428</td>\n",
       "      <td>8.4973</td>\n",
       "      <td>...</td>\n",
       "      <td>-1.8741</td>\n",
       "      <td>10.9349</td>\n",
       "      <td>1.5351</td>\n",
       "      <td>4.9576</td>\n",
       "      <td>21.5483</td>\n",
       "      <td>0.2687</td>\n",
       "      <td>-3.3322</td>\n",
       "      <td>9.4847</td>\n",
       "      <td>19.4212</td>\n",
       "      <td>3.5930</td>\n",
       "    </tr>\n",
       "    <tr>\n",
       "      <th>train_20920</th>\n",
       "      <td>4.5494</td>\n",
       "      <td>2.2167</td>\n",
       "      <td>7.5873</td>\n",
       "      <td>6.8244</td>\n",
       "      <td>13.1144</td>\n",
       "      <td>-8.7595</td>\n",
       "      <td>5.8142</td>\n",
       "      <td>15.2427</td>\n",
       "      <td>6.0176</td>\n",
       "      <td>8.0102</td>\n",
       "      <td>...</td>\n",
       "      <td>-0.2522</td>\n",
       "      <td>8.8744</td>\n",
       "      <td>4.7148</td>\n",
       "      <td>-0.4325</td>\n",
       "      <td>20.7683</td>\n",
       "      <td>-0.2299</td>\n",
       "      <td>1.9904</td>\n",
       "      <td>9.3550</td>\n",
       "      <td>16.7495</td>\n",
       "      <td>-14.8567</td>\n",
       "    </tr>\n",
       "    <tr>\n",
       "      <th>train_131887</th>\n",
       "      <td>17.9327</td>\n",
       "      <td>-0.2589</td>\n",
       "      <td>10.8622</td>\n",
       "      <td>8.2798</td>\n",
       "      <td>9.9303</td>\n",
       "      <td>7.5476</td>\n",
       "      <td>5.1549</td>\n",
       "      <td>19.3465</td>\n",
       "      <td>2.6657</td>\n",
       "      <td>7.0753</td>\n",
       "      <td>...</td>\n",
       "      <td>4.9618</td>\n",
       "      <td>6.0059</td>\n",
       "      <td>0.4061</td>\n",
       "      <td>2.7377</td>\n",
       "      <td>13.7905</td>\n",
       "      <td>0.9213</td>\n",
       "      <td>3.9935</td>\n",
       "      <td>8.1599</td>\n",
       "      <td>21.2181</td>\n",
       "      <td>15.4626</td>\n",
       "    </tr>\n",
       "  </tbody>\n",
       "</table>\n",
       "<p>5 rows × 200 columns</p>\n",
       "</div>"
      ],
      "text/plain": [
       "                var_0   var_1    var_2   var_3    var_4    var_5   var_6  \\\n",
       "ID_code                                                                    \n",
       "train_47169   12.5222  0.9528   8.0756  8.2170  10.0582  -2.1742  6.3128   \n",
       "train_155550  14.0709 -6.1488   8.3043  8.9169  10.2091 -19.6673  4.8147   \n",
       "train_172332   9.8112 -4.1240  12.0592  4.9941  11.9665  -3.8638  6.2426   \n",
       "train_20920    4.5494  2.2167   7.5873  6.8244  13.1144  -8.7595  5.8142   \n",
       "train_131887  17.9327 -0.2589  10.8622  8.2798   9.9303   7.5476  5.1549   \n",
       "\n",
       "                var_7   var_8   var_9   ...     var_190  var_191  var_192  \\\n",
       "ID_code                                 ...                                 \n",
       "train_47169   15.5889  6.5716  5.9571   ...      9.2025   5.9316   3.0285   \n",
       "train_155550  17.1123 -4.9200  7.3672   ...     -0.6122   9.8561   2.1240   \n",
       "train_172332  21.3797  3.5428  8.4973   ...     -1.8741  10.9349   1.5351   \n",
       "train_20920   15.2427  6.0176  8.0102   ...     -0.2522   8.8744   4.7148   \n",
       "train_131887  19.3465  2.6657  7.0753   ...      4.9618   6.0059   0.4061   \n",
       "\n",
       "              var_193  var_194  var_195  var_196  var_197  var_198  var_199  \n",
       "ID_code                                                                      \n",
       "train_47169    5.9117  23.2794  -2.3842  14.1623   9.3543  14.2417  -5.0458  \n",
       "train_155550   4.2462  19.7968  -1.4454   1.1993   9.9167  21.7781  -2.0514  \n",
       "train_172332   4.9576  21.5483   0.2687  -3.3322   9.4847  19.4212   3.5930  \n",
       "train_20920   -0.4325  20.7683  -0.2299   1.9904   9.3550  16.7495 -14.8567  \n",
       "train_131887   2.7377  13.7905   0.9213   3.9935   8.1599  21.2181  15.4626  \n",
       "\n",
       "[5 rows x 200 columns]"
      ]
     },
     "execution_count": 7,
     "metadata": {},
     "output_type": "execute_result"
    }
   ],
   "source": [
    "X.head()"
   ]
  },
  {
   "cell_type": "code",
   "execution_count": 8,
   "metadata": {
    "scrolled": true
   },
   "outputs": [
    {
     "data": {
      "text/html": [
       "<div>\n",
       "<style scoped>\n",
       "    .dataframe tbody tr th:only-of-type {\n",
       "        vertical-align: middle;\n",
       "    }\n",
       "\n",
       "    .dataframe tbody tr th {\n",
       "        vertical-align: top;\n",
       "    }\n",
       "\n",
       "    .dataframe thead th {\n",
       "        text-align: right;\n",
       "    }\n",
       "</style>\n",
       "<table border=\"1\" class=\"dataframe\">\n",
       "  <thead>\n",
       "    <tr style=\"text-align: right;\">\n",
       "      <th></th>\n",
       "      <th>var_0</th>\n",
       "      <th>var_1</th>\n",
       "      <th>var_2</th>\n",
       "      <th>var_3</th>\n",
       "      <th>var_4</th>\n",
       "      <th>var_5</th>\n",
       "      <th>var_6</th>\n",
       "      <th>var_7</th>\n",
       "      <th>var_8</th>\n",
       "      <th>var_9</th>\n",
       "      <th>...</th>\n",
       "      <th>var_190</th>\n",
       "      <th>var_191</th>\n",
       "      <th>var_192</th>\n",
       "      <th>var_193</th>\n",
       "      <th>var_194</th>\n",
       "      <th>var_195</th>\n",
       "      <th>var_196</th>\n",
       "      <th>var_197</th>\n",
       "      <th>var_198</th>\n",
       "      <th>var_199</th>\n",
       "    </tr>\n",
       "  </thead>\n",
       "  <tbody>\n",
       "    <tr>\n",
       "      <th>count</th>\n",
       "      <td>20000.000000</td>\n",
       "      <td>20000.000000</td>\n",
       "      <td>20000.000000</td>\n",
       "      <td>20000.000000</td>\n",
       "      <td>20000.000000</td>\n",
       "      <td>20000.000000</td>\n",
       "      <td>20000.000000</td>\n",
       "      <td>20000.000000</td>\n",
       "      <td>20000.000000</td>\n",
       "      <td>20000.000000</td>\n",
       "      <td>...</td>\n",
       "      <td>20000.000000</td>\n",
       "      <td>20000.000000</td>\n",
       "      <td>20000.000000</td>\n",
       "      <td>20000.000000</td>\n",
       "      <td>20000.000000</td>\n",
       "      <td>20000.000000</td>\n",
       "      <td>20000.000000</td>\n",
       "      <td>20000.000000</td>\n",
       "      <td>20000.000000</td>\n",
       "      <td>20000.000000</td>\n",
       "    </tr>\n",
       "    <tr>\n",
       "      <th>mean</th>\n",
       "      <td>10.693275</td>\n",
       "      <td>-1.630333</td>\n",
       "      <td>10.667976</td>\n",
       "      <td>6.791266</td>\n",
       "      <td>11.070288</td>\n",
       "      <td>-5.080342</td>\n",
       "      <td>5.407961</td>\n",
       "      <td>16.510039</td>\n",
       "      <td>0.286783</td>\n",
       "      <td>7.549414</td>\n",
       "      <td>...</td>\n",
       "      <td>3.272966</td>\n",
       "      <td>7.441508</td>\n",
       "      <td>1.924728</td>\n",
       "      <td>3.288719</td>\n",
       "      <td>17.960045</td>\n",
       "      <td>-0.141579</td>\n",
       "      <td>2.335230</td>\n",
       "      <td>8.903571</td>\n",
       "      <td>15.875691</td>\n",
       "      <td>-3.324285</td>\n",
       "    </tr>\n",
       "    <tr>\n",
       "      <th>std</th>\n",
       "      <td>3.039247</td>\n",
       "      <td>4.032578</td>\n",
       "      <td>2.642513</td>\n",
       "      <td>2.046214</td>\n",
       "      <td>1.626334</td>\n",
       "      <td>7.857570</td>\n",
       "      <td>0.872402</td>\n",
       "      <td>3.425589</td>\n",
       "      <td>3.339244</td>\n",
       "      <td>1.226859</td>\n",
       "      <td>...</td>\n",
       "      <td>4.604865</td>\n",
       "      <td>3.018890</td>\n",
       "      <td>1.478361</td>\n",
       "      <td>3.981527</td>\n",
       "      <td>3.126624</td>\n",
       "      <td>1.426585</td>\n",
       "      <td>5.466803</td>\n",
       "      <td>0.928203</td>\n",
       "      <td>2.998645</td>\n",
       "      <td>10.363124</td>\n",
       "    </tr>\n",
       "    <tr>\n",
       "      <th>min</th>\n",
       "      <td>0.893500</td>\n",
       "      <td>-14.696200</td>\n",
       "      <td>2.169300</td>\n",
       "      <td>0.371100</td>\n",
       "      <td>5.957900</td>\n",
       "      <td>-27.384800</td>\n",
       "      <td>2.615000</td>\n",
       "      <td>7.544600</td>\n",
       "      <td>-8.599400</td>\n",
       "      <td>4.274400</td>\n",
       "      <td>...</td>\n",
       "      <td>-11.375300</td>\n",
       "      <td>-1.385300</td>\n",
       "      <td>-3.436000</td>\n",
       "      <td>-10.311600</td>\n",
       "      <td>8.957500</td>\n",
       "      <td>-5.154700</td>\n",
       "      <td>-12.461500</td>\n",
       "      <td>6.287400</td>\n",
       "      <td>6.558700</td>\n",
       "      <td>-36.211100</td>\n",
       "    </tr>\n",
       "    <tr>\n",
       "      <th>25%</th>\n",
       "      <td>8.488100</td>\n",
       "      <td>-4.733575</td>\n",
       "      <td>8.678475</td>\n",
       "      <td>5.238275</td>\n",
       "      <td>9.871175</td>\n",
       "      <td>-11.240125</td>\n",
       "      <td>4.757100</td>\n",
       "      <td>13.919375</td>\n",
       "      <td>-2.329150</td>\n",
       "      <td>6.601150</td>\n",
       "      <td>...</td>\n",
       "      <td>-0.049625</td>\n",
       "      <td>5.160600</td>\n",
       "      <td>0.886275</td>\n",
       "      <td>0.559400</td>\n",
       "      <td>15.592550</td>\n",
       "      <td>-1.162900</td>\n",
       "      <td>-1.954925</td>\n",
       "      <td>8.248900</td>\n",
       "      <td>13.855675</td>\n",
       "      <td>-11.104550</td>\n",
       "    </tr>\n",
       "    <tr>\n",
       "      <th>50%</th>\n",
       "      <td>10.539700</td>\n",
       "      <td>-1.625900</td>\n",
       "      <td>10.512700</td>\n",
       "      <td>6.812850</td>\n",
       "      <td>11.092550</td>\n",
       "      <td>-4.825150</td>\n",
       "      <td>5.377800</td>\n",
       "      <td>16.378100</td>\n",
       "      <td>0.389400</td>\n",
       "      <td>7.609000</td>\n",
       "      <td>...</td>\n",
       "      <td>3.241450</td>\n",
       "      <td>7.346300</td>\n",
       "      <td>1.898650</td>\n",
       "      <td>3.302450</td>\n",
       "      <td>17.915450</td>\n",
       "      <td>-0.175500</td>\n",
       "      <td>2.438350</td>\n",
       "      <td>8.887450</td>\n",
       "      <td>15.897350</td>\n",
       "      <td>-2.782700</td>\n",
       "    </tr>\n",
       "    <tr>\n",
       "      <th>75%</th>\n",
       "      <td>12.757450</td>\n",
       "      <td>1.361675</td>\n",
       "      <td>12.476950</td>\n",
       "      <td>8.336850</td>\n",
       "      <td>12.248075</td>\n",
       "      <td>0.919250</td>\n",
       "      <td>6.003025</td>\n",
       "      <td>19.039950</td>\n",
       "      <td>2.937200</td>\n",
       "      <td>8.565425</td>\n",
       "      <td>...</td>\n",
       "      <td>6.482900</td>\n",
       "      <td>9.503475</td>\n",
       "      <td>2.945450</td>\n",
       "      <td>6.160525</td>\n",
       "      <td>20.391975</td>\n",
       "      <td>0.825250</td>\n",
       "      <td>6.605800</td>\n",
       "      <td>9.598625</td>\n",
       "      <td>18.059850</td>\n",
       "      <td>4.713775</td>\n",
       "    </tr>\n",
       "    <tr>\n",
       "      <th>max</th>\n",
       "      <td>19.452800</td>\n",
       "      <td>8.584900</td>\n",
       "      <td>19.353000</td>\n",
       "      <td>12.991800</td>\n",
       "      <td>15.778800</td>\n",
       "      <td>16.230500</td>\n",
       "      <td>8.433000</td>\n",
       "      <td>27.397100</td>\n",
       "      <td>9.460100</td>\n",
       "      <td>10.673100</td>\n",
       "      <td>...</td>\n",
       "      <td>16.016200</td>\n",
       "      <td>16.541100</td>\n",
       "      <td>7.376400</td>\n",
       "      <td>17.778800</td>\n",
       "      <td>26.767200</td>\n",
       "      <td>3.733300</td>\n",
       "      <td>18.321500</td>\n",
       "      <td>11.728100</td>\n",
       "      <td>25.131300</td>\n",
       "      <td>26.721700</td>\n",
       "    </tr>\n",
       "  </tbody>\n",
       "</table>\n",
       "<p>8 rows × 200 columns</p>\n",
       "</div>"
      ],
      "text/plain": [
       "              var_0         var_1         var_2         var_3         var_4  \\\n",
       "count  20000.000000  20000.000000  20000.000000  20000.000000  20000.000000   \n",
       "mean      10.693275     -1.630333     10.667976      6.791266     11.070288   \n",
       "std        3.039247      4.032578      2.642513      2.046214      1.626334   \n",
       "min        0.893500    -14.696200      2.169300      0.371100      5.957900   \n",
       "25%        8.488100     -4.733575      8.678475      5.238275      9.871175   \n",
       "50%       10.539700     -1.625900     10.512700      6.812850     11.092550   \n",
       "75%       12.757450      1.361675     12.476950      8.336850     12.248075   \n",
       "max       19.452800      8.584900     19.353000     12.991800     15.778800   \n",
       "\n",
       "              var_5         var_6         var_7         var_8         var_9  \\\n",
       "count  20000.000000  20000.000000  20000.000000  20000.000000  20000.000000   \n",
       "mean      -5.080342      5.407961     16.510039      0.286783      7.549414   \n",
       "std        7.857570      0.872402      3.425589      3.339244      1.226859   \n",
       "min      -27.384800      2.615000      7.544600     -8.599400      4.274400   \n",
       "25%      -11.240125      4.757100     13.919375     -2.329150      6.601150   \n",
       "50%       -4.825150      5.377800     16.378100      0.389400      7.609000   \n",
       "75%        0.919250      6.003025     19.039950      2.937200      8.565425   \n",
       "max       16.230500      8.433000     27.397100      9.460100     10.673100   \n",
       "\n",
       "           ...            var_190       var_191       var_192       var_193  \\\n",
       "count      ...       20000.000000  20000.000000  20000.000000  20000.000000   \n",
       "mean       ...           3.272966      7.441508      1.924728      3.288719   \n",
       "std        ...           4.604865      3.018890      1.478361      3.981527   \n",
       "min        ...         -11.375300     -1.385300     -3.436000    -10.311600   \n",
       "25%        ...          -0.049625      5.160600      0.886275      0.559400   \n",
       "50%        ...           3.241450      7.346300      1.898650      3.302450   \n",
       "75%        ...           6.482900      9.503475      2.945450      6.160525   \n",
       "max        ...          16.016200     16.541100      7.376400     17.778800   \n",
       "\n",
       "            var_194       var_195       var_196       var_197       var_198  \\\n",
       "count  20000.000000  20000.000000  20000.000000  20000.000000  20000.000000   \n",
       "mean      17.960045     -0.141579      2.335230      8.903571     15.875691   \n",
       "std        3.126624      1.426585      5.466803      0.928203      2.998645   \n",
       "min        8.957500     -5.154700    -12.461500      6.287400      6.558700   \n",
       "25%       15.592550     -1.162900     -1.954925      8.248900     13.855675   \n",
       "50%       17.915450     -0.175500      2.438350      8.887450     15.897350   \n",
       "75%       20.391975      0.825250      6.605800      9.598625     18.059850   \n",
       "max       26.767200      3.733300     18.321500     11.728100     25.131300   \n",
       "\n",
       "            var_199  \n",
       "count  20000.000000  \n",
       "mean      -3.324285  \n",
       "std       10.363124  \n",
       "min      -36.211100  \n",
       "25%      -11.104550  \n",
       "50%       -2.782700  \n",
       "75%        4.713775  \n",
       "max       26.721700  \n",
       "\n",
       "[8 rows x 200 columns]"
      ]
     },
     "execution_count": 8,
     "metadata": {},
     "output_type": "execute_result"
    }
   ],
   "source": [
    "X.describe()"
   ]
  },
  {
   "cell_type": "code",
   "execution_count": 9,
   "metadata": {
    "scrolled": true
   },
   "outputs": [
    {
     "name": "stdout",
     "output_type": "stream",
     "text": [
      "Min value all rows: -73.6095\n",
      "Max value all rows: 70.8691\n"
     ]
    }
   ],
   "source": [
    "print('Min value all rows: ' + str(np.min(np.min(X.describe().loc[['min']]))))\n",
    "print('Max value all rows: ' +str(np.max(np.max(X.describe().loc[['max']]))))"
   ]
  },
  {
   "cell_type": "code",
   "execution_count": 10,
   "metadata": {},
   "outputs": [
    {
     "data": {
      "image/png": "[encoded data removed]",
      "text/plain": [
       "<Figure size 1440x1440 with 210 Axes>"
      ]
     },
     "metadata": {
      "needs_background": "light"
     },
     "output_type": "display_data"
    }
   ],
   "source": [
    "X.hist(figsize=(20,20))\n",
    "plt.show()"
   ]
  },
  {
   "cell_type": "code",
   "execution_count": 11,
   "metadata": {},
   "outputs": [
    {
     "name": "stdout",
     "output_type": "stream",
     "text": [
      "Total number of NaN values in sample: 0\n"
     ]
    }
   ],
   "source": [
    "print('Total number of NaN values in sample: ' + str(X.isna().sum().sum()))"
   ]
  },
  {
   "cell_type": "code",
   "execution_count": 12,
   "metadata": {},
   "outputs": [],
   "source": [
    "normality = [normaltest(X[i])[1] for i in X.columns]"
   ]
  },
  {
   "cell_type": "code",
   "execution_count": 13,
   "metadata": {
    "scrolled": true
   },
   "outputs": [
    {
     "data": {
      "text/html": [
       "<div>\n",
       "<style scoped>\n",
       "    .dataframe tbody tr th:only-of-type {\n",
       "        vertical-align: middle;\n",
       "    }\n",
       "\n",
       "    .dataframe tbody tr th {\n",
       "        vertical-align: top;\n",
       "    }\n",
       "\n",
       "    .dataframe thead th {\n",
       "        text-align: right;\n",
       "    }\n",
       "</style>\n",
       "<table border=\"1\" class=\"dataframe\">\n",
       "  <thead>\n",
       "    <tr style=\"text-align: right;\">\n",
       "      <th></th>\n",
       "      <th>0</th>\n",
       "    </tr>\n",
       "  </thead>\n",
       "  <tbody>\n",
       "    <tr>\n",
       "      <th>count</th>\n",
       "      <td>2.000000e+02</td>\n",
       "    </tr>\n",
       "    <tr>\n",
       "      <th>mean</th>\n",
       "      <td>3.860766e-17</td>\n",
       "    </tr>\n",
       "    <tr>\n",
       "      <th>std</th>\n",
       "      <td>5.422599e-16</td>\n",
       "    </tr>\n",
       "    <tr>\n",
       "      <th>min</th>\n",
       "      <td>0.000000e+00</td>\n",
       "    </tr>\n",
       "    <tr>\n",
       "      <th>25%</th>\n",
       "      <td>1.219037e-174</td>\n",
       "    </tr>\n",
       "    <tr>\n",
       "      <th>50%</th>\n",
       "      <td>5.912993e-86</td>\n",
       "    </tr>\n",
       "    <tr>\n",
       "      <th>75%</th>\n",
       "      <td>6.832984e-51</td>\n",
       "    </tr>\n",
       "    <tr>\n",
       "      <th>max</th>\n",
       "      <td>7.668885e-15</td>\n",
       "    </tr>\n",
       "  </tbody>\n",
       "</table>\n",
       "</div>"
      ],
      "text/plain": [
       "                   0\n",
       "count   2.000000e+02\n",
       "mean    3.860766e-17\n",
       "std     5.422599e-16\n",
       "min     0.000000e+00\n",
       "25%    1.219037e-174\n",
       "50%     5.912993e-86\n",
       "75%     6.832984e-51\n",
       "max     7.668885e-15"
      ]
     },
     "execution_count": 13,
     "metadata": {},
     "output_type": "execute_result"
    }
   ],
   "source": [
    "pd.DataFrame(normality).describe()"
   ]
  },
  {
   "cell_type": "code",
   "execution_count": null,
   "metadata": {},
   "outputs": [],
   "source": [
    "xx - plot histogram of normality"
   ]
  },
  {
   "cell_type": "code",
   "execution_count": 14,
   "metadata": {},
   "outputs": [
    {
     "data": {
      "text/plain": [
       "(array([17983.,     0.,     0.,     0.,     0.,     0.,     0.,     0.,\n",
       "            0.,  2017.]),\n",
       " array([0. , 0.1, 0.2, 0.3, 0.4, 0.5, 0.6, 0.7, 0.8, 0.9, 1. ]),\n",
       " <a list of 10 Patch objects>)"
      ]
     },
     "execution_count": 14,
     "metadata": {},
     "output_type": "execute_result"
    },
    {
     "data": {
      "image/png": "[encoded data removed]",
      "text/plain": [
       "<Figure size 432x288 with 1 Axes>"
      ]
     },
     "metadata": {
      "needs_background": "light"
     },
     "output_type": "display_data"
    }
   ],
   "source": [
    "plt.hist(y)"
   ]
  },
  {
   "cell_type": "markdown",
   "metadata": {},
   "source": [
    "A review of the data it contains both positive & negative values, a visual review of histograms of each of the predictors indicates that they are all relatively normal. This is confirmed with a normality test (which is based on Pearson's) where each distribution is compared to a normal distribution and p-value generated, indicating the probability that the distribution is normal."
   ]
  },
  {
   "cell_type": "markdown",
   "metadata": {},
   "source": [
    "It would appear that the data set is of a similar scale, however to be sure the data set will have the mean removed and scaled to unit variance."
   ]
  },
  {
   "cell_type": "code",
   "execution_count": 15,
   "metadata": {
    "scrolled": true
   },
   "outputs": [],
   "source": [
    "sc = StandardScaler() \n",
    "\n",
    "X_scaled = sc.fit_transform(X)\n",
    "X_scaled = pd.DataFrame(X_scaled)\n",
    "X_scaled.columns = X.columns"
   ]
  },
  {
   "cell_type": "code",
   "execution_count": 18,
   "metadata": {},
   "outputs": [],
   "source": [
    "X_train, X_test, y_train, y_test = train_test_split(X_scaled, y, random_state=100, test_size=0.2)"
   ]
  },
  {
   "cell_type": "markdown",
   "metadata": {},
   "source": [
    "## Pass 3"
   ]
  },
  {
   "cell_type": "markdown",
   "metadata": {},
   "source": [
    "To further improve the normality of the data a quantile transform will be used"
   ]
  },
  {
   "cell_type": "code",
   "execution_count": 16,
   "metadata": {},
   "outputs": [],
   "source": [
    "qt = QuantileTransformer(output_distribution='normal')\n",
    "X_quant = qt.fit_transform(X_scaled)\n",
    "X_quant = qt.transform(X_quant)"
   ]
  },
  {
   "cell_type": "code",
   "execution_count": 19,
   "metadata": {},
   "outputs": [],
   "source": [
    "X_train_qt, X_test_qt, y_train_qt, y_test_qt = train_test_split(X_quant, y, random_state=100, test_size=0.2)"
   ]
  },
  {
   "cell_type": "code",
   "execution_count": 20,
   "metadata": {},
   "outputs": [],
   "source": [
    "spw = float(len(y[y == 1])) / float(len(y[y == 0]))"
   ]
  },
  {
   "cell_type": "markdown",
   "metadata": {},
   "source": [
    "### Conclusion\n",
    "\n",
    "The data set is sufficiently clean and normal can be progressed with. A test will be created to ensure that when the rest of the dataset is included the traits indentified in this analysis are representative, a test fail will indicate that that sample taken here is not sufficiently representative of the entire dataset. \n",
    "\n"
   ]
  },
  {
   "cell_type": "markdown",
   "metadata": {},
   "source": [
    "# Explore / Model"
   ]
  },
  {
   "cell_type": "markdown",
   "metadata": {},
   "source": [
    "### Function generation\n",
    "\n",
    "Some key components will be used multiple times so they will be created as functions"
   ]
  },
  {
   "cell_type": "markdown",
   "metadata": {},
   "source": [
    "**Confusion Matrix**"
   ]
  },
  {
   "cell_type": "code",
   "execution_count": 21,
   "metadata": {},
   "outputs": [],
   "source": [
    "def confusion_mat(y, y_pred):\n",
    "    cnf_matrix = confusion_matrix(y, y_pred)\n",
    "    plt.imshow(cnf_matrix,  cmap=plt.cm.Blues)\n",
    "    plt.title('Confusion Matrix')\n",
    "    plt.ylabel('True label')\n",
    "    plt.xlabel('Predicted label')\n",
    "    class_names = set(y)\n",
    "    tick_marks = np.arange(len(class_names))\n",
    "    plt.xticks(tick_marks, class_names, rotation=45)\n",
    "    plt.yticks(tick_marks, class_names)\n",
    "    thresh = cnf_matrix.max() / 2.\n",
    "\n",
    "    for i, j in itertools.product(range(cnf_matrix.shape[0]), range(cnf_matrix.shape[1])):\n",
    "        plt.text(j, i, cnf_matrix[i, j],\n",
    "                 horizontalalignment=\"center\",\n",
    "                 color=\"white\" if cnf_matrix[i, j] > thresh else \"black\")\n",
    "    plt.colorbar()\n",
    "    plt.show()"
   ]
  },
  {
   "cell_type": "markdown",
   "metadata": {},
   "source": [
    "**AUC**"
   ]
  },
  {
   "cell_type": "code",
   "execution_count": 22,
   "metadata": {},
   "outputs": [],
   "source": [
    "def AUC(y_train, y_pred_train, y_test, y_pred_test):\n",
    "    fpr, tpr, thresholds = roc_curve(y_train, y_pred_train) \n",
    "    AUC_train = print('AUC train: ' + str(round(auc(fpr, tpr),4)))\n",
    "    AUC_train\n",
    "    fpr, tpr, thresholds = roc_curve(y_test, y_pred_test) \n",
    "    AUC_test = print('AUC test: ' + str(round(auc(fpr, tpr),4)))\n",
    "    AUC_test"
   ]
  },
  {
   "cell_type": "code",
   "execution_count": 23,
   "metadata": {},
   "outputs": [],
   "source": [
    "def AUC_nonprint(y_train, y_pred_train, y_test, y_pred_test):\n",
    "    fpr, tpr, thresholds = roc_curve(y_train, y_pred_train) \n",
    "    AUC_train = round(auc(fpr, tpr),4)\n",
    "    fpr, tpr, thresholds = roc_curve(y_test, y_pred_test) \n",
    "    AUC_test = round(auc(fpr, tpr),4)\n",
    "    return AUC_train, AUC_test"
   ]
  },
  {
   "cell_type": "markdown",
   "metadata": {},
   "source": [
    "# Pass 1"
   ]
  },
  {
   "cell_type": "markdown",
   "metadata": {},
   "source": [
    "Initially a simple model will be fitted to provide a bench mark for improvement"
   ]
  },
  {
   "cell_type": "markdown",
   "metadata": {},
   "source": [
    "### KNearest Neighbours"
   ]
  },
  {
   "cell_type": "code",
   "execution_count": 24,
   "metadata": {},
   "outputs": [],
   "source": [
    "clf_knn = KNeighborsClassifier(n_neighbors=3) \n",
    "clf_knn.fit(X_train, y_train) \n",
    "y_pred_train_knn = clf_knn.predict(X_train)\n",
    "y_pred_test_knn = clf_knn.predict(X_test)"
   ]
  },
  {
   "cell_type": "code",
   "execution_count": 25,
   "metadata": {},
   "outputs": [
    {
     "name": "stdout",
     "output_type": "stream",
     "text": [
      "AUC train: 0.5437\n",
      "AUC test: 0.5015\n"
     ]
    }
   ],
   "source": [
    "AUC(y_train, y_pred_train_knn, y_test, y_pred_test_knn)"
   ]
  },
  {
   "cell_type": "markdown",
   "metadata": {},
   "source": [
    "## Decision Trees"
   ]
  },
  {
   "cell_type": "code",
   "execution_count": 26,
   "metadata": {
    "scrolled": true
   },
   "outputs": [],
   "source": [
    "clf_xgb_vanilla = xgb.XGBClassifier()\n",
    "clf_xgb_vanilla.fit(X_train, y_train)\n",
    "y_pred_train_xgb_vanilla = clf_xgb_vanilla.predict(X_train)\n",
    "y_pred_test_xgb_vanilla = clf_xgb_vanilla.predict(X_test)"
   ]
  },
  {
   "cell_type": "code",
   "execution_count": 27,
   "metadata": {},
   "outputs": [
    {
     "name": "stdout",
     "output_type": "stream",
     "text": [
      "AUC train: 0.5488\n",
      "AUC test: 0.5082\n"
     ]
    }
   ],
   "source": [
    "AUC(y_train, y_pred_train_xgb_vanilla, y_test, y_pred_test_xgb_vanilla)"
   ]
  },
  {
   "cell_type": "markdown",
   "metadata": {},
   "source": [
    "**Conclusions**"
   ]
  },
  {
   "cell_type": "markdown",
   "metadata": {},
   "source": [
    "In both models With an AUC of only marginally above the threshold of random chance, 0.5, the model performance here is very poor - significant work needs to be completed to have a useable model."
   ]
  },
  {
   "cell_type": "markdown",
   "metadata": {},
   "source": [
    "# Pass 2"
   ]
  },
  {
   "cell_type": "markdown",
   "metadata": {},
   "source": [
    "Initial exploration of the some of the modelling parameters"
   ]
  },
  {
   "cell_type": "markdown",
   "metadata": {},
   "source": [
    "### Weighting"
   ]
  },
  {
   "cell_type": "markdown",
   "metadata": {},
   "source": [
    "**Use SMOTE as the weighting paramaeter**"
   ]
  },
  {
   "cell_type": "code",
   "execution_count": 28,
   "metadata": {},
   "outputs": [
    {
     "name": "stdout",
     "output_type": "stream",
     "text": [
      "0    17983\n",
      "1     2017\n",
      "Name: target, dtype: int64\n",
      "X-Length20000\n",
      "1    14411\n",
      "0    14411\n",
      "dtype: int64\n",
      "X-Length28822\n",
      "Y-Length28822\n"
     ]
    }
   ],
   "source": [
    "print(y.value_counts())\n",
    "print('X-Length' + str(len(X_scaled)))\n",
    "X_train_smote, y_train_smote = SMOTE().fit_sample(X_train, y_train)\n",
    "X_train_smote = pd.DataFrame(X_train_smote)\n",
    "X_train_smote.columns = X.columns\n",
    "print(pd.Series(y_train_smote).value_counts())\n",
    "print('X-Length' + str(len(X_train_smote)))\n",
    "print('Y-Length' + str(len(y_train_smote)))"
   ]
  },
  {
   "cell_type": "code",
   "execution_count": 29,
   "metadata": {},
   "outputs": [],
   "source": [
    "clf_xgb_smote = xgb.XGBClassifier()\n",
    "clf_xgb_smote.fit(X_train_smote, y_train_smote)\n",
    "y_pred_train_xgb_smote = clf_xgb_smote.predict(X_train)\n",
    "y_pred_test_xgb_smote = clf_xgb_smote.predict(X_test)"
   ]
  },
  {
   "cell_type": "code",
   "execution_count": 30,
   "metadata": {
    "scrolled": false
   },
   "outputs": [
    {
     "name": "stdout",
     "output_type": "stream",
     "text": [
      "AUC train: 0.7422\n",
      "AUC test: 0.5807\n"
     ]
    },
    {
     "data": {
      "image/png": "[encoded data removed]",
      "text/plain": [
       "<Figure size 432x288 with 2 Axes>"
      ]
     },
     "metadata": {
      "needs_background": "light"
     },
     "output_type": "display_data"
    },
    {
     "data": {
      "image/png": "[encoded data removed]",
      "text/plain": [
       "<Figure size 432x288 with 2 Axes>"
      ]
     },
     "metadata": {
      "needs_background": "light"
     },
     "output_type": "display_data"
    }
   ],
   "source": [
    "AUC(y_train, y_pred_train_xgb_smote, y_test, y_pred_test_xgb_smote)\n",
    "confusion_mat(y_train, y_pred_train_xgb_smote)\n",
    "confusion_mat(y_test, y_pred_test_xgb_smote)"
   ]
  },
  {
   "cell_type": "markdown",
   "metadata": {},
   "source": [
    "**Using in built parameter**"
   ]
  },
  {
   "cell_type": "code",
   "execution_count": 31,
   "metadata": {},
   "outputs": [],
   "source": [
    "I = range(2,30,2)\n",
    "AUC_train_weight_results = []\n",
    "AUC_test_weight_results =[]\n",
    "for i in range(2,30,2):\n",
    "    clf_xgb_weight = xgb.XGBClassifier(scale_pos_weight=i)\n",
    "    clf_xgb_weight.fit(X_train, y_train)\n",
    "    y_pred_train_xgb_weight = clf_xgb_weight.predict(X_train)\n",
    "    y_pred_test_xgb_weight = clf_xgb_weight.predict(X_test)\n",
    "    AUC_train, AUC_test = AUC_nonprint(y_train, y_pred_train_xgb_weight, y_test, y_pred_test_xgb_weight)\n",
    "    AUC_train_weight_results.append(AUC_train)\n",
    "    AUC_test_weight_results.append(AUC_test)"
   ]
  },
  {
   "cell_type": "code",
   "execution_count": 32,
   "metadata": {},
   "outputs": [
    {
     "data": {
      "image/png": "[encoded data removed]",
      "text/plain": [
       "<Figure size 432x288 with 1 Axes>"
      ]
     },
     "metadata": {
      "needs_background": "light"
     },
     "output_type": "display_data"
    }
   ],
   "source": [
    "plt.plot(I, AUC_train_weight_results, label='AUC Train')\n",
    "plt.plot(I, AUC_test_weight_results, label= 'AUC Test')\n",
    "plt.title('AUC for varying positive weightings')\n",
    "plt.xlabel('Positive weighting')\n",
    "plt.ylabel('AUC')\n",
    "plt.legend()\n",
    "plt.show()"
   ]
  },
  {
   "cell_type": "markdown",
   "metadata": {},
   "source": [
    "**Conclusion**\n",
    "\n",
    "The weighting peaks around 13 for testing, so for the Grid Search using an initial range of values from 10-15 would seem appropriate. Using the inbuilt parameter produces better results than the SMOTE method. There is a significant degree of overfitting in all models."
   ]
  },
  {
   "cell_type": "code",
   "execution_count": 33,
   "metadata": {
    "scrolled": false
   },
   "outputs": [
    {
     "name": "stdout",
     "output_type": "stream",
     "text": [
      "AUC train: 0.8469\n",
      "AUC test: 0.7537\n"
     ]
    },
    {
     "data": {
      "image/png": "[encoded data removed]",
      "text/plain": [
       "<Figure size 432x288 with 2 Axes>"
      ]
     },
     "metadata": {
      "needs_background": "light"
     },
     "output_type": "display_data"
    },
    {
     "data": {
      "image/png": "[encoded data removed]",
      "text/plain": [
       "<Figure size 432x288 with 2 Axes>"
      ]
     },
     "metadata": {
      "needs_background": "light"
     },
     "output_type": "display_data"
    }
   ],
   "source": [
    "clf_xgb_weight = xgb.XGBClassifier(scale_pos_weight=13)\n",
    "clf_xgb_weight.fit(X_train, y_train)\n",
    "y_pred_train_xgb_weight = clf_xgb_weight.predict(X_train)\n",
    "y_pred_test_xgb_weight = clf_xgb_weight.predict(X_test)\n",
    "AUC(y_train, y_pred_train_xgb_weight, y_test, y_pred_test_xgb_weight)\n",
    "confusion_mat(y_train, y_pred_train_xgb_weight)\n",
    "confusion_mat(y_test, y_pred_test_xgb_weight)"
   ]
  },
  {
   "cell_type": "markdown",
   "metadata": {},
   "source": [
    "### Max Depth"
   ]
  },
  {
   "cell_type": "code",
   "execution_count": 35,
   "metadata": {},
   "outputs": [],
   "source": [
    "I = range(1,30,2)\n",
    "AUC_train_max_depth_results = []\n",
    "AUC_test_max_depth_results =[]\n",
    "for i in I:\n",
    "    clf_xgb_max_depth = xgb.XGBClassifier(\n",
    "        max_depth = i,\n",
    "        scale_pos_weight=13,\n",
    "    )\n",
    "    clf_xgb_max_depth.fit(X_train, y_train)\n",
    "    y_pred_train_xgb_max_depth = clf_xgb_max_depth.predict(X_train)\n",
    "    y_pred_test_xgb_max_depth = clf_xgb_max_depth.predict(X_test)\n",
    "    AUC_train, AUC_test = AUC_nonprint(y_train, y_pred_train_xgb_max_depth, y_test, y_pred_test_xgb_max_depth)\n",
    "    AUC_train_max_depth_results.append(AUC_train)\n",
    "    AUC_test_max_depth_results.append(AUC_test)"
   ]
  },
  {
   "cell_type": "code",
   "execution_count": 36,
   "metadata": {
    "scrolled": true
   },
   "outputs": [
    {
     "data": {
      "image/png": "[encoded data removed]",
      "text/plain": [
       "<Figure size 432x288 with 1 Axes>"
      ]
     },
     "metadata": {
      "needs_background": "light"
     },
     "output_type": "display_data"
    }
   ],
   "source": [
    "plt.plot(I, AUC_train_max_depth_results, label='AUC Train')\n",
    "plt.plot(I, AUC_test_max_depth_results, label= 'AUC Test')\n",
    "plt.title('AUC for varying max depth')\n",
    "plt.xlabel('Max Depth')\n",
    "plt.ylabel('AUC')\n",
    "plt.legend()\n",
    "plt.show()"
   ]
  },
  {
   "cell_type": "markdown",
   "metadata": {},
   "source": [
    "**Conclusion**\n",
    "\n",
    "Although the train AUC tends toward 1 with increasing depth, the test rapdidly decreased after a depth of approximately 4 a clear sign of overfitting. For the grid search the max depth values used will be 3, 4 and 5."
   ]
  },
  {
   "cell_type": "markdown",
   "metadata": {},
   "source": [
    "### Model Evaluation Criteria"
   ]
  },
  {
   "cell_type": "code",
   "execution_count": 37,
   "metadata": {
    "scrolled": false
   },
   "outputs": [
    {
     "name": "stdout",
     "output_type": "stream",
     "text": [
      "AUC train: 0.8469\n",
      "AUC test: 0.7537\n"
     ]
    },
    {
     "data": {
      "image/png": "[encoded data removed]",
      "text/plain": [
       "<Figure size 432x288 with 2 Axes>"
      ]
     },
     "metadata": {
      "needs_background": "light"
     },
     "output_type": "display_data"
    },
    {
     "data": {
      "image/png": "[encoded data removed]",
      "text/plain": [
       "<Figure size 432x288 with 2 Axes>"
      ]
     },
     "metadata": {
      "needs_background": "light"
     },
     "output_type": "display_data"
    }
   ],
   "source": [
    "clf_xgb_eval = xgb.XGBClassifier(scale_pos_weight=13, eval_metric = 'auc')\n",
    "clf_xgb_eval.fit(X_train, y_train)\n",
    "y_pred_train_xgb_eval = clf_xgb_eval.predict(X_train)\n",
    "y_pred_test_xgb_eval = clf_xgb_eval.predict(X_test)\n",
    "AUC(y_train, y_pred_train_xgb_eval, y_test, y_pred_test_xgb_eval)\n",
    "confusion_mat(y_train, y_pred_train_xgb_eval)\n",
    "confusion_mat(y_test, y_pred_test_xgb_eval)"
   ]
  },
  {
   "cell_type": "markdown",
   "metadata": {},
   "source": [
    "**Conclusion**\n",
    "No difference, model may well have already predefined this as the evaluation criteria"
   ]
  },
  {
   "cell_type": "markdown",
   "metadata": {},
   "source": [
    "### Minimum Split Loss"
   ]
  },
  {
   "cell_type": "code",
   "execution_count": 38,
   "metadata": {},
   "outputs": [],
   "source": [
    "I = range(0,30,3)\n",
    "AUC_train_gamma_results = []\n",
    "AUC_test_gamma_results =[]\n",
    "for i in I:\n",
    "    clf_xgb_gamma = xgb.XGBClassifier(\n",
    "        scale_pos_weight=13,\n",
    "        gamma = i\n",
    "    )\n",
    "    clf_xgb_gamma.fit(X_train, y_train)\n",
    "    y_pred_train_xgb_gamma = clf_xgb_gamma.predict(X_train)\n",
    "    y_pred_test_xgb_gamma = clf_xgb_gamma.predict(X_test)\n",
    "    AUC_train, AUC_test = AUC_nonprint(y_train, y_pred_train_xgb_gamma, y_test, y_pred_test_xgb_gamma)\n",
    "    AUC_train_gamma_results.append(AUC_train)\n",
    "    AUC_test_gamma_results.append(AUC_test)"
   ]
  },
  {
   "cell_type": "code",
   "execution_count": 39,
   "metadata": {},
   "outputs": [
    {
     "data": {
      "image/png": "[encoded data removed]",
      "text/plain": [
       "<Figure size 432x288 with 1 Axes>"
      ]
     },
     "metadata": {
      "needs_background": "light"
     },
     "output_type": "display_data"
    }
   ],
   "source": [
    "plt.plot(I, AUC_train_gamma_results, label='AUC Train')\n",
    "plt.plot(I, AUC_test_gamma_results, label= 'AUC Test')\n",
    "plt.title('AUC for varying Minimum Split Loss (Gamma)')\n",
    "plt.xlabel('Gamma')\n",
    "plt.ylabel('AUC')\n",
    "plt.legend()\n",
    "plt.show()"
   ]
  },
  {
   "cell_type": "markdown",
   "metadata": {},
   "source": [
    "**Conclusion**\n",
    "\n",
    "XX - include"
   ]
  },
  {
   "cell_type": "markdown",
   "metadata": {},
   "source": [
    "## Pass 3 \n",
    "\n",
    "### Building a basic model\n",
    "\n",
    "At this point will swap to the xgb .train method rather than the scikit .fit method as this gives greater control. The main aim of this section is to optimise further the parameters, first step will be identify the number of rounds that should be completed - the aim is to minimise the number. The quantile transformed dataset will be used."
   ]
  },
  {
   "cell_type": "markdown",
   "metadata": {},
   "source": [
    "**Model setup**"
   ]
  },
  {
   "cell_type": "code",
   "execution_count": 40,
   "metadata": {},
   "outputs": [],
   "source": [
    "train_data = xgb.DMatrix(data=X_train_qt, label=y_train)\n",
    "valid_data = xgb.DMatrix(data=X_test_qt, label=y_test)\n",
    "watchlist = [(train_data, 'train'), (valid_data, 'valid_data')]"
   ]
  },
  {
   "cell_type": "code",
   "execution_count": 41,
   "metadata": {},
   "outputs": [],
   "source": [
    "model_params = {\n",
    "    'scale_pos_weight': 13,\n",
    "    'gamma': 2,\n",
    "    'max_depth': 1,\n",
    "    'verbosity': 0, \n",
    "    'silent': True,\n",
    "    'eval_metric': 'auc'\n",
    "}"
   ]
  },
  {
   "cell_type": "code",
   "execution_count": 44,
   "metadata": {
    "scrolled": false
   },
   "outputs": [
    {
     "name": "stdout",
     "output_type": "stream",
     "text": [
      "[0]\ttrain-auc:0.552023\tvalid_data-auc:0.546484\n",
      "Multiple eval metrics have been passed: 'valid_data-auc' will be used for early stopping.\n",
      "\n",
      "Will train until valid_data-auc hasn't improved in 4000 rounds.\n",
      "[2000]\ttrain-auc:0.965218\tvalid_data-auc:0.864003\n",
      "[4000]\ttrain-auc:0.965218\tvalid_data-auc:0.864003\n",
      "Stopping. Best iteration:\n",
      "[695]\ttrain-auc:0.959788\tvalid_data-auc:0.865413\n",
      "\n",
      "Duration: 525.5425secs\n"
     ]
    }
   ],
   "source": [
    "start = time.time()\n",
    "tr_model = xgb.train(\n",
    "        dtrain=train_data,\n",
    "        num_boost_round=100000,\n",
    "        evals=watchlist,\n",
    "        early_stopping_rounds=4000,\n",
    "        verbose_eval=2000,\n",
    "        params=model_params)\n",
    "\n",
    "print('Duration: ' +str(round(time.time()-start,4)) + 'secs')"
   ]
  },
  {
   "cell_type": "code",
   "execution_count": 46,
   "metadata": {
    "scrolled": false
   },
   "outputs": [
    {
     "name": "stdout",
     "output_type": "stream",
     "text": [
      "[0]\ttrain-auc:0.552023\tvalid_data-auc:0.546484\n",
      "Multiple eval metrics have been passed: 'valid_data-auc' will be used for early stopping.\n",
      "\n",
      "Will train until valid_data-auc hasn't improved in 400 rounds.\n",
      "[100]\ttrain-auc:0.879516\tvalid_data-auc:0.829423\n",
      "[200]\ttrain-auc:0.91479\tvalid_data-auc:0.851685\n",
      "[300]\ttrain-auc:0.931898\tvalid_data-auc:0.860228\n",
      "[400]\ttrain-auc:0.943543\tvalid_data-auc:0.862927\n",
      "[500]\ttrain-auc:0.951019\tvalid_data-auc:0.864671\n",
      "[600]\ttrain-auc:0.95598\tvalid_data-auc:0.863158\n",
      "[700]\ttrain-auc:0.959963\tvalid_data-auc:0.865206\n",
      "[800]\ttrain-auc:0.963413\tvalid_data-auc:0.864257\n",
      "[900]\ttrain-auc:0.965218\tvalid_data-auc:0.864003\n",
      "[1000]\ttrain-auc:0.965218\tvalid_data-auc:0.864003\n",
      "Stopping. Best iteration:\n",
      "[695]\ttrain-auc:0.959788\tvalid_data-auc:0.865413\n",
      "\n",
      "Duration: 122.3475secs\n"
     ]
    }
   ],
   "source": [
    "start = time.time()\n",
    "tr_model = xgb.train(\n",
    "        dtrain=train_data,\n",
    "        num_boost_round=10000,\n",
    "        evals=watchlist,\n",
    "        early_stopping_rounds=400,\n",
    "        verbose_eval=100,\n",
    "        params=model_params)\n",
    "\n",
    "print('Duration: ' +str(round(time.time()-start,4)) + 'secs')"
   ]
  },
  {
   "cell_type": "markdown",
   "metadata": {},
   "source": [
    "**Conclusion**\n",
    "\n",
    "Both of the above methods return the same AUC value, with the same output. However the second option greatly decreased the processing time. As a result the second set of model run hyperparameters will be used."
   ]
  },
  {
   "cell_type": "markdown",
   "metadata": {},
   "source": [
    "## Optimisation of base model"
   ]
  },
  {
   "cell_type": "markdown",
   "metadata": {},
   "source": [
    "### Deployable code for Parameter Optimisation\n",
    "\n",
    "With the large number of parameters and combindations an exhaustive Grid Search is going to be computationally extremely demanding as such an approach of staged optimisation will be used - as each pararmeter is optimised that parameter will be carried forwards.\n",
    "\n",
    "There are some limitation to this method, as discussed above in that some parameters are co-dependent so the best for one is not necessarily the best for the second. Once this initial optimisation is complete, additional optimisations will be conducted.\n",
    "\n",
    "The order of the parameters has been selected to include parameters likely to have a large effect first."
   ]
  },
  {
   "cell_type": "code",
   "execution_count": null,
   "metadata": {},
   "outputs": [],
   "source": [
    "import numpy as np\n",
    "import pandas as pd\n",
    "from sklearn.model_selection import train_test_split\n",
    "import gc\n",
    "from sklearn.preprocessing import StandardScaler, QuantileTransformer\n",
    "import xgboost as xgb\n",
    "from sklearn.metrics import accuracy_score\n",
    "from sklearn.metrics import roc_curve, auc\n",
    "\n",
    "df = pd.read_csv('sample.csv', index_col = 'ID_code')\n",
    "\n",
    "sc = StandardScaler()\n",
    "X_scaled = sc.fit_transform(df.drop('target',axis=1))\n",
    "X_scaled = pd.DataFrame(X_scaled)\n",
    "X_scaled.columns = df.drop('target',axis=1).columns\n",
    "\n",
    "qt = QuantileTransformer(output_distribution='normal')\n",
    "X_quant = qt.fit_transform(X_scaled)\n",
    "X_quant = qt.transform(X_quant)\n",
    "\n",
    "X_train, X_test, y_train, y_test = train_test_split(X_quant, df.target, random_state=100, test_size=0.2)\n",
    "\n",
    "train_data = xgb.DMatrix(data=X_train, label=y_train)\n",
    "valid_data = xgb.DMatrix(data=X_test, label=y_test)\n",
    "watchlist = [(train_data, 'train'), (valid_data, 'valid_data')]\n",
    "\n",
    "\n",
    "def AUC(y_train, y_pred_train, y_test, y_pred_test):\n",
    "    fpr, tpr, thresholds = roc_curve(y_train, y_pred_train)\n",
    "    AUC_train = round(auc(fpr, tpr),4)\n",
    "    fpr, tpr, thresholds = roc_curve(y_test, y_pred_test)\n",
    "    AUC_test = round(auc(fpr, tpr),4)\n",
    "    return AUC_train, AUC_test\n",
    "\n",
    "spw = float(len(y_train[y_train == 1])) / float(len(y_train[y_train == 0]))\n",
    "\n",
    "\n",
    "I = [1/spw, 12.7, 12.8, 12.9] # scale_pos_weight difference between the positive and negative classes\n",
    "J = [1,2] # max_depth\n",
    "K = [0.01, 0.02, 0.03] # eta/learning rate\n",
    "L = [0.25, 0.29, 0.35] # subsample\n",
    "M = [0.03, 0.04, 0.05] # colsample_bytree\n",
    "N = [0.55, 0.57, 0.59] # lambda L2 regularisation term on weights - Ridge\n",
    "P = [0.06, 0.08, 0.1] # alpha L1 regularisation term on weights - Lasso\n",
    "Q = [4.5, 5.45, 6.5] # min_child_weight range 0-inf,\n",
    "R= [1.25, 1.53, 1.75] # max_delta_step range 0-inf, useful in highly imbalance class sets\n",
    "#Provide some initial values\n",
    "i_best = 13\n",
    "j_best = 1\n",
    "k_best = 0.01\n",
    "l_best = 0.25\n",
    "m_best = 0.03\n",
    "n_best = 0.55\n",
    "p_best = 0.06\n",
    "q_best = 4.5\n",
    "r_best = 1.25\n",
    "\n",
    "\n",
    "results = []\n",
    "current_auc_best = 0\n",
    "for i in I:\n",
    "    model_params = {\n",
    "        'scale_pos_weight': i, # difference between the positive and negative classes\n",
    "        'max_depth': j_best,\n",
    "        'eta': k_best, #Learning rate\n",
    "        'subsample': l_best,  #Reduces overfitting, range 0-1, 0.5-0.5 would be 50% training data\n",
    "        'colsample_bytree': m_best, # range 0-1\n",
    "        'lambda': n_best, # L2 regularisation term on weights - Ridge\n",
    "        'alpha': p_best, # L1 regularisation term on weights - Lasso\n",
    "        'min_child_weight': q_best, # range 0-inf,\n",
    "        'max_delta_step': r_best, # range 0-inf, useful in highly imbalance class sets\n",
    "        'objective': 'binary:logistic', # model type\n",
    "        'eval_metric': 'auc', # evaulation type\n",
    "        'verbosity': 0, #printing of messages 0 (silent), 1 (warning), 2 (info), 3 (debug)\n",
    "        'silent': True #Depricated use verbosity - although does stop lots of messages\n",
    "                }\n",
    "    tr_model = xgb.train(\n",
    "        dtrain=train_data,\n",
    "        num_boost_round=10000,\n",
    "        evals=watchlist,\n",
    "        early_stopping_rounds=400,\n",
    "        verbose_eval=100,\n",
    "        params=model_params)\n",
    "    y_pred_train = tr_model.predict(xgb.DMatrix(X_train), ntree_limit=tr_model.best_ntree_limit)\n",
    "    y_pred_test = tr_model.predict(xgb.DMatrix(X_test), ntree_limit=tr_model.best_ntree_limit)\n",
    "    auc_train, auc_test = AUC(y_train, y_pred_train, y_test, y_pred_test)\n",
    "    current_auc_best = 0\n",
    "    if auc_test>current_auc_best:\n",
    "        current_auc_best = auc_test\n",
    "        i_best = i\n",
    "    print(' i: '+str(i) + ' j: ' +str(j_best), ' k: ' +str(k_best) + ' l:' +str(l_best), ' m: ' +str(m_best) + ' n: ' +str(n_best) +' p: ' +str(p_best) + ' q: ' +str(q_best) + ' r: '+str(r_best) +' AUC Train: ' +str(auc_train)+' AUC Test: ' +str(auc_test))\n",
    "    results.append({'i':i, 'j':j_best, 'k':k_best, 'l':l_best, 'm':m_best, 'n':n_best, 'p':p_best, 'q':q_best, 'r':r_best, 'AUC_train':auc_train, 'AUC_test': auc_test})\n",
    "\n",
    "for j in J:\n",
    "    model_params = {\n",
    "        'scale_pos_weight': i_best, # difference between the positive and negative classes\n",
    "        'max_depth': j,\n",
    "        'eta': k_best, #Learning rate\n",
    "        'subsample': l_best,  #Reduces overfitting, range 0-1, 0.5-0.5 would be 50% training data\n",
    "        'colsample_bytree': m_best, # range 0-1\n",
    "        'lambda': n_best, # L2 regularisation term on weights - Ridge\n",
    "        'alpha': p_best, # L1 regularisation term on weights - Lasso\n",
    "        'min_child_weight': q_best, # range 0-inf,\n",
    "        'max_delta_step': r_best, # range 0-inf, useful in highly imbalance class sets\n",
    "        'objective': 'binary:logistic', # model type\n",
    "        'eval_metric': 'auc', # evaulation type\n",
    "        'verbosity': 0, #printing of messages 0 (silent), 1 (warning), 2 (info), 3 (debug)\n",
    "        'silent': True #Depricated use verbosity - although does stop lots of messages\n",
    "                }\n",
    "    tr_model = xgb.train(\n",
    "        dtrain=train_data,\n",
    "        num_boost_round=10000,\n",
    "        evals=watchlist,\n",
    "        early_stopping_rounds=400,\n",
    "        verbose_eval=100,\n",
    "        params=model_params)\n",
    "    y_pred_train = tr_model.predict(xgb.DMatrix(X_train), ntree_limit=tr_model.best_ntree_limit)\n",
    "    y_pred_test = tr_model.predict(xgb.DMatrix(X_test), ntree_limit=tr_model.best_ntree_limit)\n",
    "    auc_train, auc_test = AUC(y_train, y_pred_train, y_test, y_pred_test)\n",
    "    if auc_test>current_auc_best:\n",
    "        current_auc_best = auc_test\n",
    "        j_best = j\n",
    "    print(' i: '+str(i_best) + ' j: ' +str(j), ' k: ' +str(k_best) + ' l:' +str(l_best), ' m: ' +str(m_best) + ' n: ' +str(n_best) +' p: ' +str(p_best) + ' q: ' +str(q_best) + ' r: '+str(r_best) +' AUC Train: ' +str(auc_train)+' AUC Test: ' +str(auc_test))\n",
    "    results.append({'i':i_best, 'j':j, 'k':k_best, 'l':l_best, 'm':m_best, 'n':n_best, 'p':p_best, 'q':q_best, 'r':r_best, 'AUC_train':auc_train, 'AUC_test': auc_test})\n",
    "\n",
    "current_auc_best = 0\n",
    "for k in K:\n",
    "    model_params = {\n",
    "        'scale_pos_weight': i_best, # difference between the positive and negative classes\n",
    "        'max_depth': j_best,\n",
    "        'eta': k, #Learning rate\n",
    "        'subsample': l_best,  #Reduces overfitting, range 0-1, 0.5-0.5 would be 50% training data\n",
    "        'colsample_bytree': m_best, # range 0-1\n",
    "        'lambda': n_best, # L2 regularisation term on weights - Ridge\n",
    "        'alpha': p_best, # L1 regularisation term on weights - Lasso\n",
    "        'min_child_weight': q_best, # range 0-inf,\n",
    "        'max_delta_step': r_best, # range 0-inf, useful in highly imbalance class sets\n",
    "        'objective': 'binary:logistic', # model type\n",
    "        'eval_metric': 'auc', # evaulation type\n",
    "        'verbosity': 0, #printing of messages 0 (silent), 1 (warning), 2 (info), 3 (debug)\n",
    "        'silent': True #Depricated use verbosity - although does stop lots of messages\n",
    "                }\n",
    "    tr_model = xgb.train(\n",
    "        dtrain=train_data,\n",
    "        num_boost_round=10000,\n",
    "        evals=watchlist,\n",
    "        early_stopping_rounds=400,\n",
    "        verbose_eval=100,\n",
    "        params=model_params)\n",
    "    y_pred_train = tr_model.predict(xgb.DMatrix(X_train), ntree_limit=tr_model.best_ntree_limit)\n",
    "    y_pred_test = tr_model.predict(xgb.DMatrix(X_test), ntree_limit=tr_model.best_ntree_limit)\n",
    "    auc_train, auc_test = AUC(y_train, y_pred_train, y_test, y_pred_test)\n",
    "    if auc_test>current_auc_best:\n",
    "        current_auc_best = auc_test\n",
    "        k_best = k\n",
    "    print(' i: '+str(i_best) + ' j: ' +str(j_best), ' k: ' +str(k) + ' l:' +str(l_best), ' m: ' +str(m_best) + ' n: ' +str(n_best) +' p: ' +str(p_best) + ' q: ' +str(q_best) + ' r: '+str(r_best) +' AUC Train: ' +str(auc_train)+' AUC Test: ' +str(auc_test))\n",
    "    results.append({'i':i_best, 'j':j_best, 'k':k, 'l':l_best, 'm':m_best, 'n':n_best, 'p':p_best, 'q':q_best, 'r':r_best, 'AUC_train':auc_train, 'AUC_test': auc_test})\n",
    "\n",
    "current_auc_best = 0\n",
    "for l in L:\n",
    "    model_params = {\n",
    "        'scale_pos_weight': i_best, # difference between the positive and negative classes\n",
    "        'max_depth': j_best,\n",
    "        'eta': k_best, #Learning rate\n",
    "        'subsample': l,  #Reduces overfitting, range 0-1, 0.5-0.5 would be 50% training data\n",
    "        'colsample_bytree': m_best, # range 0-1\n",
    "        'lambda': n_best, # L2 regularisation term on weights - Ridge\n",
    "        'alpha': p_best, # L1 regularisation term on weights - Lasso\n",
    "        'min_child_weight': q_best, # range 0-inf,\n",
    "        'max_delta_step': r_best, # range 0-inf, useful in highly imbalance class sets\n",
    "        'objective': 'binary:logistic', # model type\n",
    "        'eval_metric': 'auc', # evaulation type\n",
    "        'verbosity': 0, #printing of messages 0 (silent), 1 (warning), 2 (info), 3 (debug)\n",
    "        'silent': True #Depricated use verbosity - although does stop lots of messages\n",
    "                }\n",
    "    tr_model = xgb.train(\n",
    "        dtrain=train_data,\n",
    "        num_boost_round=10000,\n",
    "        evals=watchlist,\n",
    "        early_stopping_rounds=400,\n",
    "        verbose_eval=100,\n",
    "        params=model_params)\n",
    "    y_pred_train = tr_model.predict(xgb.DMatrix(X_train), ntree_limit=tr_model.best_ntree_limit)\n",
    "    y_pred_test = tr_model.predict(xgb.DMatrix(X_test), ntree_limit=tr_model.best_ntree_limit)\n",
    "    auc_train, auc_test = AUC(y_train, y_pred_train, y_test, y_pred_test)\n",
    "    if auc_test>current_auc_best:\n",
    "        current_auc_best = auc_test\n",
    "        l_best = l\n",
    "    print(' i: '+str(i_best) + ' j: ' +str(j_best), ' k: ' +str(k_best) + ' l:' +str(l), ' m: ' +str(m_best) + ' n: ' +str(n_best) +' p: ' +str(p_best) + ' q: ' +str(q_best) + ' r: '+str(r_best) +' AUC Train: ' +str(auc_train)+' AUC Test: ' +str(auc_test))\n",
    "    results.append({'i':i_best, 'j':j_best, 'k':k_best, 'l':l, 'm':m_best, 'n':n_best, 'p':p_best, 'q':q_best, 'r':r_best, 'AUC_train':auc_train, 'AUC_test': auc_test})\n",
    "\n",
    "current_auc_best = 0\n",
    "for m in M:\n",
    "    model_params = {\n",
    "        'scale_pos_weight': i_best, # difference between the positive and negative classes\n",
    "        'max_depth': j_best,\n",
    "        'eta': k_best, #Learning rate\n",
    "        'subsample': l,  #Reduces overfitting, range 0-1, 0.5-0.5 would be 50% training data\n",
    "        'colsample_bytree': m_best, # range 0-1\n",
    "        'lambda': n_best, # L2 regularisation term on weights - Ridge\n",
    "        'alpha': p_best, # L1 regularisation term on weights - Lasso\n",
    "        'min_child_weight': q_best, # range 0-inf,\n",
    "        'max_delta_step': r_best, # range 0-inf, useful in highly imbalance class sets\n",
    "        'objective': 'binary:logistic', # model type\n",
    "        'eval_metric': 'auc', # evaulation type\n",
    "        'verbosity': 0, #printing of messages 0 (silent), 1 (warning), 2 (info), 3 (debug)\n",
    "        'silent': True #Depricated use verbosity - although does stop lots of messages\n",
    "                }\n",
    "    tr_model = xgb.train(\n",
    "        dtrain=train_data,\n",
    "        num_boost_round=10000,\n",
    "        evals=watchlist,\n",
    "        early_stopping_rounds=400,\n",
    "        verbose_eval=100,\n",
    "        params=model_params)\n",
    "    y_pred_train = tr_model.predict(xgb.DMatrix(X_train), ntree_limit=tr_model.best_ntree_limit)\n",
    "    y_pred_test = tr_model.predict(xgb.DMatrix(X_test), ntree_limit=tr_model.best_ntree_limit)\n",
    "    auc_train, auc_test = AUC(y_train, y_pred_train, y_test, y_pred_test)\n",
    "    if auc_test>current_auc_best:\n",
    "        current_auc_best = auc_test\n",
    "        m_best = m\n",
    "    print(' i: '+str(i_best) + ' j: ' +str(j_best), ' k: ' +str(k_best) + ' l:' +str(l_best), ' m: ' +str(m) + ' n: ' +str(n_best) +' p: ' +str(p_best) + ' q: ' +str(q_best) + ' r: '+str(r_best) +' AUC Train: ' +str(auc_train)+' AUC Test: ' +str(auc_test))\n",
    "    results.append({'i':i_best, 'j':j_best, 'k':k_best, 'l':l_best, 'm':m, 'n':n_best, 'p':p_best, 'q':q_best, 'r':r_best, 'AUC_train':auc_train, 'AUC_test': auc_test})\n",
    "\n",
    "current_auc_best = 0\n",
    "for n in N:\n",
    "    model_params = {\n",
    "        'scale_pos_weight': i_best, # difference between the positive and negative classes\n",
    "        'max_depth': j_best,\n",
    "        'eta': k_best, #Learning rate\n",
    "        'subsample': l_best,  #Reduces overfitting, range 0-1, 0.5-0.5 would be 50% training data\n",
    "        'colsample_bytree': m_best, # range 0-1\n",
    "        'lambda': n, # L2 regularisation term on weights - Ridge\n",
    "        'alpha': p_best, # L1 regularisation term on weights - Lasso\n",
    "        'min_child_weight': q_best, # range 0-inf,\n",
    "        'max_delta_step': r_best, # range 0-inf, useful in highly imbalance class sets\n",
    "        'objective': 'binary:logistic', # model type\n",
    "        'eval_metric': 'auc', # evaulation type\n",
    "        'verbosity': 0, #printing of messages 0 (silent), 1 (warning), 2 (info), 3 (debug)\n",
    "        'silent': True #Depricated use verbosity - although does stop lots of messages\n",
    "                }\n",
    "    tr_model = xgb.train(\n",
    "        dtrain=train_data,\n",
    "        num_boost_round=10000,\n",
    "        evals=watchlist,\n",
    "        early_stopping_rounds=400,\n",
    "        verbose_eval=100,\n",
    "        params=model_params)\n",
    "    y_pred_train = tr_model.predict(xgb.DMatrix(X_train), ntree_limit=tr_model.best_ntree_limit)\n",
    "    y_pred_test = tr_model.predict(xgb.DMatrix(X_test), ntree_limit=tr_model.best_ntree_limit)\n",
    "    auc_train, auc_test = AUC(y_train, y_pred_train, y_test, y_pred_test)\n",
    "    if auc_test>current_auc_best:\n",
    "        current_auc_best = auc_test\n",
    "        n_best = n\n",
    "    print(' i: '+str(i_best) + ' j: ' +str(j_best), ' k: ' +str(k_best) + ' l:' +str(l_best), ' m: ' +str(m_best) + ' n: ' +str(n) +' p: ' +str(p_best) + ' q: ' +str(q_best) + ' r: '+str(r_best) +' AUC Train: ' +str(auc_train)+' AUC Test: ' +str(auc_test))\n",
    "    results.append({'i':i_best, 'j':j_best, 'k':k_best, 'l':l_best, 'm':m_best, 'n':n, 'p':p_best, 'q':q_best, 'r':r_best, 'AUC_train':auc_train, 'AUC_test': auc_test})\n",
    "\n",
    "current_auc_best = 0\n",
    "for p in P:\n",
    "    model_params = {\n",
    "        'scale_pos_weight': i_best, # difference between the positive and negative classes\n",
    "        'max_depth': j_best,\n",
    "        'eta': k_best, #Learning rate\n",
    "        'subsample': l_best,  #Reduces overfitting, range 0-1, 0.5-0.5 would be 50% training data\n",
    "        'colsample_bytree': m_best, # range 0-1\n",
    "        'lambda': n_best, # L2 regularisation term on weights - Ridge\n",
    "        'alpha': p, # L1 regularisation term on weights - Lasso\n",
    "        'min_child_weight': q_best, # range 0-inf,\n",
    "        'max_delta_step': r_best, # range 0-inf, useful in highly imbalance class sets\n",
    "        'objective': 'binary:logistic', # model type\n",
    "        'eval_metric': 'auc', # evaulation type\n",
    "        'verbosity': 0, #printing of messages 0 (silent), 1 (warning), 2 (info), 3 (debug)\n",
    "        'silent': True #Depricated use verbosity - although does stop lots of messages\n",
    "                }\n",
    "    tr_model = xgb.train(\n",
    "        dtrain=train_data,\n",
    "        num_boost_round=10000,\n",
    "        evals=watchlist,\n",
    "        early_stopping_rounds=400,\n",
    "        verbose_eval=100,\n",
    "        params=model_params)\n",
    "    y_pred_train = tr_model.predict(xgb.DMatrix(X_train), ntree_limit=tr_model.best_ntree_limit)\n",
    "    y_pred_test = tr_model.predict(xgb.DMatrix(X_test), ntree_limit=tr_model.best_ntree_limit)\n",
    "    auc_train, auc_test = AUC(y_train, y_pred_train, y_test, y_pred_test)\n",
    "    if auc_test>current_auc_best:\n",
    "        current_auc_best = auc_test\n",
    "        p_best = p\n",
    "    print(' i: '+str(i_best) + ' j: ' +str(j_best), ' k: ' +str(k_best) + ' l:' +str(l_best), ' m: ' +str(m_best) + ' n: ' +str(n_best) +' p: ' +str(p) + ' q: ' +str(q_best) + ' r: '+str(r_best) +' AUC Train: ' +str(auc_train)+' AUC Test: ' +str(auc_test))\n",
    "    results.append({'i':i_best, 'j':j_best, 'k':k_best, 'l':l_best, 'm':m_best, 'n':n_best, 'p':p, 'q':q_best, 'r':r_best, 'AUC_train':auc_train, 'AUC_test': auc_test})\n",
    "\n",
    "current_auc_best = 0\n",
    "for q in Q:\n",
    "    model_params = {\n",
    "        'scale_pos_weight': i_best, # difference between the positive and negative classes\n",
    "        'max_depth': j_best,\n",
    "        'eta': k_best, #Learning rate\n",
    "        'subsample': l_best,  #Reduces overfitting, range 0-1, 0.5-0.5 would be 50% training data\n",
    "        'colsample_bytree': m_best, # range 0-1\n",
    "        'lambda': n_best, # L2 regularisation term on weights - Ridge\n",
    "        'alpha': p_best, # L1 regularisation term on weights - Lasso\n",
    "        'min_child_weight': q, # range 0-inf,\n",
    "        'max_delta_step': r_best, # range 0-inf, useful in highly imbalance class sets\n",
    "        'objective': 'binary:logistic', # model type\n",
    "        'eval_metric': 'auc', # evaulation type\n",
    "        'verbosity': 0, #printing of messages 0 (silent), 1 (warning), 2 (info), 3 (debug)\n",
    "        'silent': True #Depricated use verbosity - although does stop lots of messages\n",
    "                }\n",
    "    tr_model = xgb.train(\n",
    "        dtrain=train_data,\n",
    "        num_boost_round=10000,\n",
    "        evals=watchlist,\n",
    "        early_stopping_rounds=400,\n",
    "        verbose_eval=100,\n",
    "        params=model_params)\n",
    "    y_pred_train = tr_model.predict(xgb.DMatrix(X_train), ntree_limit=tr_model.best_ntree_limit)\n",
    "    y_pred_test = tr_model.predict(xgb.DMatrix(X_test), ntree_limit=tr_model.best_ntree_limit)\n",
    "    auc_train, auc_test = AUC(y_train, y_pred_train, y_test, y_pred_test)\n",
    "    if auc_test>current_auc_best:\n",
    "        current_auc_best = auc_test\n",
    "        q_best = q\n",
    "    print(' i: '+str(i_best) + ' j: ' +str(j_best), ' k: ' +str(k_best) + ' l:' +str(l_best), ' m: ' +str(m_best) + ' n: ' +str(n_best) +' p: ' +str(p_best) + ' q: ' +str(q) + ' r: '+str(r_best) +' AUC Train: ' +str(auc_train)+' AUC Test: ' +str(auc_test))\n",
    "    results.append({'i':i_best, 'j':j_best, 'k':k_best, 'l':l_best, 'm':m_best, 'n':n_best, 'p':p_best, 'q':q, 'r':r_best, 'AUC_train':auc_train, 'AUC_test': auc_test})\n",
    "\n",
    "current_auc_best = 0\n",
    "for r in R:\n",
    "    model_params = {\n",
    "        'scale_pos_weight': i_best, # difference between the positive and negative classes\n",
    "        'max_depth': j_best,\n",
    "        'eta': k_best, #Learning rate\n",
    "        'subsample': l_best,  #Reduces overfitting, range 0-1, 0.5-0.5 would be 50% training data\n",
    "        'colsample_bytree': m_best, # range 0-1\n",
    "        'lambda': n_best, # L2 regularisation term on weights - Ridge\n",
    "        'alpha': p_best, # L1 regularisation term on weights - Lasso\n",
    "        'min_child_weight': q_best, # range 0-inf,\n",
    "        'max_delta_step': r, # range 0-inf, useful in highly imbalance class sets\n",
    "        'objective': 'binary:logistic', # model type\n",
    "        'eval_metric': 'auc', # evaulation type\n",
    "        'verbosity': 0, #printing of messages 0 (silent), 1 (warning), 2 (info), 3 (debug)\n",
    "        'silent': True #Depricated use verbosity - although does stop lots of messages\n",
    "                }\n",
    "    tr_model = xgb.train(\n",
    "        dtrain=train_data,\n",
    "        num_boost_round=10000,\n",
    "        evals=watchlist,\n",
    "        early_stopping_rounds=400,\n",
    "        verbose_eval=100,\n",
    "        params=model_params)\n",
    "    y_pred_train = tr_model.predict(xgb.DMatrix(X_train), ntree_limit=tr_model.best_ntree_limit)\n",
    "    y_pred_test = tr_model.predict(xgb.DMatrix(X_test), ntree_limit=tr_model.best_ntree_limit)\n",
    "    auc_train, auc_test = AUC(y_train, y_pred_train, y_test, y_pred_test)\n",
    "    \n",
    "    if auc_test>current_auc_best:\n",
    "        current_auc_best = auc_test\n",
    "        r_best = r\n",
    "    print(' i: '+str(i_best) + ' j: ' +str(j_best), ' k: ' +str(k_best) + ' l:' +str(l_best), ' m: ' +str(m_best) + ' n: ' +str(n_best) +' p: ' +str(p_best) + ' q: ' +str(q_best) + ' r: '+str(r) +' AUC Train: ' +str(auc_train)+' AUC Test: ' +str(auc_test))\n",
    "    results.append({'i':i_best, 'j':j_best, 'k':k_best, 'l':l_best, 'm':m_best, 'n':n_best, 'p':p_best, 'q':q_best, 'r':r, 'AUC_train':auc_train, 'AUC_test': auc_test})\n",
    "\n",
    "pd.DataFrame(results).to_csv('search_results.csv')\n"
   ]
  },
  {
   "cell_type": "code",
   "execution_count": 47,
   "metadata": {},
   "outputs": [],
   "source": [
    "results_table = pd.read_csv('optimisation_run2.csv', index_col='Unnamed: 0') "
   ]
  },
  {
   "cell_type": "code",
   "execution_count": 48,
   "metadata": {
    "scrolled": false
   },
   "outputs": [
    {
     "data": {
      "text/html": [
       "<div>\n",
       "<style scoped>\n",
       "    .dataframe tbody tr th:only-of-type {\n",
       "        vertical-align: middle;\n",
       "    }\n",
       "\n",
       "    .dataframe tbody tr th {\n",
       "        vertical-align: top;\n",
       "    }\n",
       "\n",
       "    .dataframe thead th {\n",
       "        text-align: right;\n",
       "    }\n",
       "</style>\n",
       "<table border=\"1\" class=\"dataframe\">\n",
       "  <thead>\n",
       "    <tr style=\"text-align: right;\">\n",
       "      <th></th>\n",
       "      <th>AUC_test</th>\n",
       "      <th>AUC_train</th>\n",
       "      <th>i</th>\n",
       "      <th>j</th>\n",
       "      <th>k</th>\n",
       "      <th>l</th>\n",
       "      <th>m</th>\n",
       "      <th>n</th>\n",
       "      <th>p</th>\n",
       "      <th>q</th>\n",
       "      <th>r</th>\n",
       "    </tr>\n",
       "  </thead>\n",
       "  <tbody>\n",
       "    <tr>\n",
       "      <th>0</th>\n",
       "      <td>0.8765</td>\n",
       "      <td>0.9307</td>\n",
       "      <td>9.069226</td>\n",
       "      <td>1</td>\n",
       "      <td>0.01</td>\n",
       "      <td>0.25</td>\n",
       "      <td>0.03</td>\n",
       "      <td>0.55</td>\n",
       "      <td>0.06</td>\n",
       "      <td>4.50</td>\n",
       "      <td>1.25</td>\n",
       "    </tr>\n",
       "    <tr>\n",
       "      <th>20</th>\n",
       "      <td>0.8749</td>\n",
       "      <td>0.9329</td>\n",
       "      <td>12.900000</td>\n",
       "      <td>1</td>\n",
       "      <td>0.01</td>\n",
       "      <td>0.29</td>\n",
       "      <td>0.03</td>\n",
       "      <td>0.57</td>\n",
       "      <td>0.10</td>\n",
       "      <td>4.50</td>\n",
       "      <td>1.25</td>\n",
       "    </tr>\n",
       "    <tr>\n",
       "      <th>25</th>\n",
       "      <td>0.8749</td>\n",
       "      <td>0.9329</td>\n",
       "      <td>12.900000</td>\n",
       "      <td>1</td>\n",
       "      <td>0.01</td>\n",
       "      <td>0.29</td>\n",
       "      <td>0.03</td>\n",
       "      <td>0.57</td>\n",
       "      <td>0.10</td>\n",
       "      <td>4.50</td>\n",
       "      <td>1.53</td>\n",
       "    </tr>\n",
       "    <tr>\n",
       "      <th>24</th>\n",
       "      <td>0.8749</td>\n",
       "      <td>0.9329</td>\n",
       "      <td>12.900000</td>\n",
       "      <td>1</td>\n",
       "      <td>0.01</td>\n",
       "      <td>0.29</td>\n",
       "      <td>0.03</td>\n",
       "      <td>0.57</td>\n",
       "      <td>0.10</td>\n",
       "      <td>4.50</td>\n",
       "      <td>1.25</td>\n",
       "    </tr>\n",
       "    <tr>\n",
       "      <th>22</th>\n",
       "      <td>0.8749</td>\n",
       "      <td>0.9329</td>\n",
       "      <td>12.900000</td>\n",
       "      <td>1</td>\n",
       "      <td>0.01</td>\n",
       "      <td>0.29</td>\n",
       "      <td>0.03</td>\n",
       "      <td>0.57</td>\n",
       "      <td>0.10</td>\n",
       "      <td>5.45</td>\n",
       "      <td>1.25</td>\n",
       "    </tr>\n",
       "  </tbody>\n",
       "</table>\n",
       "</div>"
      ],
      "text/plain": [
       "    AUC_test  AUC_train          i  j     k     l     m     n     p     q  \\\n",
       "0     0.8765     0.9307   9.069226  1  0.01  0.25  0.03  0.55  0.06  4.50   \n",
       "20    0.8749     0.9329  12.900000  1  0.01  0.29  0.03  0.57  0.10  4.50   \n",
       "25    0.8749     0.9329  12.900000  1  0.01  0.29  0.03  0.57  0.10  4.50   \n",
       "24    0.8749     0.9329  12.900000  1  0.01  0.29  0.03  0.57  0.10  4.50   \n",
       "22    0.8749     0.9329  12.900000  1  0.01  0.29  0.03  0.57  0.10  5.45   \n",
       "\n",
       "       r  \n",
       "0   1.25  \n",
       "20  1.25  \n",
       "25  1.53  \n",
       "24  1.25  \n",
       "22  1.25  "
      ]
     },
     "execution_count": 48,
     "metadata": {},
     "output_type": "execute_result"
    }
   ],
   "source": [
    "results_table.sort_values('AUC_test', ascending=False)[:5]"
   ]
  },
  {
   "cell_type": "markdown",
   "metadata": {},
   "source": [
    "### Model Setup Optimisation  Round 2\n",
    "\n",
    "Based on the outputs of the parameter selection model the follow parameter are being retested for sensitivity"
   ]
  },
  {
   "cell_type": "code",
   "execution_count": 49,
   "metadata": {},
   "outputs": [],
   "source": [
    "I = [1/spw] # scale_pos_weight difference between the positive and negative classes\n",
    "J = [1,2] # max_depth\n",
    "K = [0.01, 0.02, 0.03] # eta/learning rate\n",
    "L = [0.25, 0.8] # subsample\n",
    "M = [0.03, 0.04, 0.05] # colsample_bytree\n",
    "N = [0.55, 0.25, 0.75] # lambda L2 regularisation term on weights - Ridge\n",
    "P = [0.1, 0.15, 0.2] # alpha L1 regularisation term on weights - Lasso\n",
    "Q = [4.5, 3.5] # min_child_weight range 0-inf,\n",
    "R= [1.25, 1, 0.5] # max_delta_step range 0-inf, useful in highly imbalance class sets\n",
    "#Provide some initial values\n",
    "i_best = 1/spw\n",
    "j_best = 1\n",
    "k_best = 0.01\n",
    "l_best = 0.25 # some variation\n",
    "m_best = 0.03\n",
    "n_best = 0.55 # some variation\n",
    "p_best = 0.10\n",
    "q_best = 4.5\n",
    "r_best = 1.25"
   ]
  },
  {
   "cell_type": "code",
   "execution_count": 50,
   "metadata": {},
   "outputs": [],
   "source": [
    "results_table = pd.read_csv('optimisation_run3.csv', index_col='Unnamed: 0')"
   ]
  },
  {
   "cell_type": "code",
   "execution_count": 51,
   "metadata": {
    "scrolled": true
   },
   "outputs": [
    {
     "data": {
      "text/html": [
       "<div>\n",
       "<style scoped>\n",
       "    .dataframe tbody tr th:only-of-type {\n",
       "        vertical-align: middle;\n",
       "    }\n",
       "\n",
       "    .dataframe tbody tr th {\n",
       "        vertical-align: top;\n",
       "    }\n",
       "\n",
       "    .dataframe thead th {\n",
       "        text-align: right;\n",
       "    }\n",
       "</style>\n",
       "<table border=\"1\" class=\"dataframe\">\n",
       "  <thead>\n",
       "    <tr style=\"text-align: right;\">\n",
       "      <th></th>\n",
       "      <th>AUC_test</th>\n",
       "      <th>AUC_train</th>\n",
       "      <th>i</th>\n",
       "      <th>j</th>\n",
       "      <th>k</th>\n",
       "      <th>l</th>\n",
       "      <th>m</th>\n",
       "      <th>n</th>\n",
       "      <th>p</th>\n",
       "      <th>q</th>\n",
       "      <th>r</th>\n",
       "    </tr>\n",
       "  </thead>\n",
       "  <tbody>\n",
       "    <tr>\n",
       "      <th>20</th>\n",
       "      <td>0.8775</td>\n",
       "      <td>0.9455</td>\n",
       "      <td>9.069226</td>\n",
       "      <td>1</td>\n",
       "      <td>0.03</td>\n",
       "      <td>0.25</td>\n",
       "      <td>0.03</td>\n",
       "      <td>0.75</td>\n",
       "      <td>0.15</td>\n",
       "      <td>4.5</td>\n",
       "      <td>0.50</td>\n",
       "    </tr>\n",
       "    <tr>\n",
       "      <th>19</th>\n",
       "      <td>0.8775</td>\n",
       "      <td>0.9455</td>\n",
       "      <td>9.069226</td>\n",
       "      <td>1</td>\n",
       "      <td>0.03</td>\n",
       "      <td>0.25</td>\n",
       "      <td>0.03</td>\n",
       "      <td>0.75</td>\n",
       "      <td>0.15</td>\n",
       "      <td>4.5</td>\n",
       "      <td>1.00</td>\n",
       "    </tr>\n",
       "    <tr>\n",
       "      <th>18</th>\n",
       "      <td>0.8775</td>\n",
       "      <td>0.9455</td>\n",
       "      <td>9.069226</td>\n",
       "      <td>1</td>\n",
       "      <td>0.03</td>\n",
       "      <td>0.25</td>\n",
       "      <td>0.03</td>\n",
       "      <td>0.75</td>\n",
       "      <td>0.15</td>\n",
       "      <td>4.5</td>\n",
       "      <td>1.25</td>\n",
       "    </tr>\n",
       "    <tr>\n",
       "      <th>16</th>\n",
       "      <td>0.8775</td>\n",
       "      <td>0.9455</td>\n",
       "      <td>9.069226</td>\n",
       "      <td>1</td>\n",
       "      <td>0.03</td>\n",
       "      <td>0.25</td>\n",
       "      <td>0.03</td>\n",
       "      <td>0.75</td>\n",
       "      <td>0.15</td>\n",
       "      <td>4.5</td>\n",
       "      <td>1.25</td>\n",
       "    </tr>\n",
       "    <tr>\n",
       "      <th>14</th>\n",
       "      <td>0.8775</td>\n",
       "      <td>0.9455</td>\n",
       "      <td>9.069226</td>\n",
       "      <td>1</td>\n",
       "      <td>0.03</td>\n",
       "      <td>0.25</td>\n",
       "      <td>0.03</td>\n",
       "      <td>0.75</td>\n",
       "      <td>0.15</td>\n",
       "      <td>4.5</td>\n",
       "      <td>1.25</td>\n",
       "    </tr>\n",
       "  </tbody>\n",
       "</table>\n",
       "</div>"
      ],
      "text/plain": [
       "    AUC_test  AUC_train         i  j     k     l     m     n     p    q     r\n",
       "20    0.8775     0.9455  9.069226  1  0.03  0.25  0.03  0.75  0.15  4.5  0.50\n",
       "19    0.8775     0.9455  9.069226  1  0.03  0.25  0.03  0.75  0.15  4.5  1.00\n",
       "18    0.8775     0.9455  9.069226  1  0.03  0.25  0.03  0.75  0.15  4.5  1.25\n",
       "16    0.8775     0.9455  9.069226  1  0.03  0.25  0.03  0.75  0.15  4.5  1.25\n",
       "14    0.8775     0.9455  9.069226  1  0.03  0.25  0.03  0.75  0.15  4.5  1.25"
      ]
     },
     "execution_count": 51,
     "metadata": {},
     "output_type": "execute_result"
    }
   ],
   "source": [
    "results_table.sort_values('AUC_test', ascending=False)[:5]"
   ]
  },
  {
   "cell_type": "markdown",
   "metadata": {},
   "source": [
    "### Optimisation Round 3"
   ]
  },
  {
   "cell_type": "code",
   "execution_count": null,
   "metadata": {},
   "outputs": [],
   "source": [
    "I = [1/spw] # scale_pos_weight difference between the positive and negative classes\n",
    "J = [1] # max_depth\n",
    "K = [0.01, 0.05] # eta/learning rate\n",
    "L = [0.25] # subsample\n",
    "M = [0.03, 0.04, 0.05] # colsample_bytree\n",
    "N = [0.75, 0.6, 0.85] # lambda L2 regularisation term on weights - Ridge\n",
    "P = [0.13, 0.15, 0.17] # alpha L1 regularisation term on weights - Lasso\n",
    "Q = [4.5, 5] # min_child_weight range 0-inf,\n",
    "R= [1.25,] # max_delta_step range 0-inf, useful in highly imbalance class sets\n",
    "#Provide some initial values\n",
    "i_best = 1/spw\n",
    "j_best = 1\n",
    "k_best = 0.01\n",
    "l_best = 0.25 # some variation\n",
    "m_best = 0.03\n",
    "n_best = 0.55 # some variation\n",
    "p_best = 0.10\n",
    "q_best = 4.5\n",
    "r_best = 1.25"
   ]
  },
  {
   "cell_type": "code",
   "execution_count": 52,
   "metadata": {},
   "outputs": [],
   "source": [
    "results_table = pd.read_csv('optimisation_run4.csv', index_col='Unnamed: 0')"
   ]
  },
  {
   "cell_type": "code",
   "execution_count": 53,
   "metadata": {},
   "outputs": [
    {
     "data": {
      "text/html": [
       "<div>\n",
       "<style scoped>\n",
       "    .dataframe tbody tr th:only-of-type {\n",
       "        vertical-align: middle;\n",
       "    }\n",
       "\n",
       "    .dataframe tbody tr th {\n",
       "        vertical-align: top;\n",
       "    }\n",
       "\n",
       "    .dataframe thead th {\n",
       "        text-align: right;\n",
       "    }\n",
       "</style>\n",
       "<table border=\"1\" class=\"dataframe\">\n",
       "  <thead>\n",
       "    <tr style=\"text-align: right;\">\n",
       "      <th></th>\n",
       "      <th>AUC_test</th>\n",
       "      <th>AUC_train</th>\n",
       "      <th>i</th>\n",
       "      <th>j</th>\n",
       "      <th>k</th>\n",
       "      <th>l</th>\n",
       "      <th>m</th>\n",
       "      <th>n</th>\n",
       "      <th>p</th>\n",
       "      <th>q</th>\n",
       "      <th>r</th>\n",
       "    </tr>\n",
       "  </thead>\n",
       "  <tbody>\n",
       "    <tr>\n",
       "      <th>0</th>\n",
       "      <td>0.8767</td>\n",
       "      <td>0.9333</td>\n",
       "      <td>9.069226</td>\n",
       "      <td>1</td>\n",
       "      <td>0.01</td>\n",
       "      <td>0.25</td>\n",
       "      <td>0.03</td>\n",
       "      <td>0.55</td>\n",
       "      <td>0.10</td>\n",
       "      <td>4.5</td>\n",
       "      <td>1.25</td>\n",
       "    </tr>\n",
       "    <tr>\n",
       "      <th>12</th>\n",
       "      <td>0.8738</td>\n",
       "      <td>0.9313</td>\n",
       "      <td>12.900000</td>\n",
       "      <td>1</td>\n",
       "      <td>0.01</td>\n",
       "      <td>0.25</td>\n",
       "      <td>0.03</td>\n",
       "      <td>0.75</td>\n",
       "      <td>0.13</td>\n",
       "      <td>4.5</td>\n",
       "      <td>1.25</td>\n",
       "    </tr>\n",
       "    <tr>\n",
       "      <th>16</th>\n",
       "      <td>0.8738</td>\n",
       "      <td>0.9313</td>\n",
       "      <td>12.900000</td>\n",
       "      <td>1</td>\n",
       "      <td>0.01</td>\n",
       "      <td>0.25</td>\n",
       "      <td>0.03</td>\n",
       "      <td>0.75</td>\n",
       "      <td>0.13</td>\n",
       "      <td>5.0</td>\n",
       "      <td>1.25</td>\n",
       "    </tr>\n",
       "    <tr>\n",
       "      <th>15</th>\n",
       "      <td>0.8738</td>\n",
       "      <td>0.9313</td>\n",
       "      <td>12.900000</td>\n",
       "      <td>1</td>\n",
       "      <td>0.01</td>\n",
       "      <td>0.25</td>\n",
       "      <td>0.03</td>\n",
       "      <td>0.75</td>\n",
       "      <td>0.13</td>\n",
       "      <td>4.5</td>\n",
       "      <td>1.25</td>\n",
       "    </tr>\n",
       "    <tr>\n",
       "      <th>9</th>\n",
       "      <td>0.8738</td>\n",
       "      <td>0.9306</td>\n",
       "      <td>12.900000</td>\n",
       "      <td>1</td>\n",
       "      <td>0.01</td>\n",
       "      <td>0.25</td>\n",
       "      <td>0.03</td>\n",
       "      <td>0.75</td>\n",
       "      <td>0.10</td>\n",
       "      <td>4.5</td>\n",
       "      <td>1.25</td>\n",
       "    </tr>\n",
       "  </tbody>\n",
       "</table>\n",
       "</div>"
      ],
      "text/plain": [
       "    AUC_test  AUC_train          i  j     k     l     m     n     p    q     r\n",
       "0     0.8767     0.9333   9.069226  1  0.01  0.25  0.03  0.55  0.10  4.5  1.25\n",
       "12    0.8738     0.9313  12.900000  1  0.01  0.25  0.03  0.75  0.13  4.5  1.25\n",
       "16    0.8738     0.9313  12.900000  1  0.01  0.25  0.03  0.75  0.13  5.0  1.25\n",
       "15    0.8738     0.9313  12.900000  1  0.01  0.25  0.03  0.75  0.13  4.5  1.25\n",
       "9     0.8738     0.9306  12.900000  1  0.01  0.25  0.03  0.75  0.10  4.5  1.25"
      ]
     },
     "execution_count": 53,
     "metadata": {},
     "output_type": "execute_result"
    }
   ],
   "source": [
    "results_table.sort_values('AUC_test', ascending=False)[:5]"
   ]
  },
  {
   "cell_type": "markdown",
   "metadata": {},
   "source": [
    "### Optimisation Round 4"
   ]
  },
  {
   "cell_type": "code",
   "execution_count": null,
   "metadata": {},
   "outputs": [],
   "source": [
    "I = [1/spw] # scale_pos_weight difference between the positive and negative classes\n",
    "J = [1,2] # max_depth\n",
    "K = [0.01, 0.02, 0.03] # eta/learning rate\n",
    "L = [0.25, 0.8] # subsample\n",
    "M = [0.03, 0.04, 0.05] # colsample_bytree\n",
    "N = [0.55, 0.25, 0.75] # lambda L2 regularisation term on weights - Ridge\n",
    "P = [0.1, 0.15, 0.2] # alpha L1 regularisation term on weights - Lasso\n",
    "Q = [4.5, 3.5] # min_child_weight range 0-inf,\n",
    "R= [1.25, 1, 0.5] # max_delta_step range 0-inf, useful in highly imbalance class sets\n",
    "#Provide some initial values\n",
    "i_best = 1/spw\n",
    "j_best = 1\n",
    "k_best = 0.01\n",
    "l_best = 0.25 # some variation\n",
    "m_best = 0.03\n",
    "n_best = 0.55 # some variation\n",
    "p_best = 0.10\n",
    "q_best = 4.5\n",
    "r_best = 1.25"
   ]
  },
  {
   "cell_type": "code",
   "execution_count": 54,
   "metadata": {},
   "outputs": [],
   "source": [
    "results_table = pd.read_csv('optimisation_run5.csv', index_col='Unnamed: 0')"
   ]
  },
  {
   "cell_type": "code",
   "execution_count": 55,
   "metadata": {},
   "outputs": [
    {
     "data": {
      "text/html": [
       "<div>\n",
       "<style scoped>\n",
       "    .dataframe tbody tr th:only-of-type {\n",
       "        vertical-align: middle;\n",
       "    }\n",
       "\n",
       "    .dataframe tbody tr th {\n",
       "        vertical-align: top;\n",
       "    }\n",
       "\n",
       "    .dataframe thead th {\n",
       "        text-align: right;\n",
       "    }\n",
       "</style>\n",
       "<table border=\"1\" class=\"dataframe\">\n",
       "  <thead>\n",
       "    <tr style=\"text-align: right;\">\n",
       "      <th></th>\n",
       "      <th>AUC_test</th>\n",
       "      <th>AUC_train</th>\n",
       "      <th>i</th>\n",
       "      <th>j</th>\n",
       "      <th>k</th>\n",
       "      <th>l</th>\n",
       "      <th>m</th>\n",
       "      <th>n</th>\n",
       "      <th>p</th>\n",
       "      <th>q</th>\n",
       "      <th>r</th>\n",
       "    </tr>\n",
       "  </thead>\n",
       "  <tbody>\n",
       "    <tr>\n",
       "      <th>16</th>\n",
       "      <td>0.8770</td>\n",
       "      <td>0.9306</td>\n",
       "      <td>9.069226</td>\n",
       "      <td>1</td>\n",
       "      <td>0.01</td>\n",
       "      <td>0.25</td>\n",
       "      <td>0.03</td>\n",
       "      <td>0.85</td>\n",
       "      <td>0.17</td>\n",
       "      <td>4.5</td>\n",
       "      <td>1.25</td>\n",
       "    </tr>\n",
       "    <tr>\n",
       "      <th>15</th>\n",
       "      <td>0.8770</td>\n",
       "      <td>0.9306</td>\n",
       "      <td>9.069226</td>\n",
       "      <td>1</td>\n",
       "      <td>0.01</td>\n",
       "      <td>0.25</td>\n",
       "      <td>0.03</td>\n",
       "      <td>0.85</td>\n",
       "      <td>0.17</td>\n",
       "      <td>5.0</td>\n",
       "      <td>1.25</td>\n",
       "    </tr>\n",
       "    <tr>\n",
       "      <th>14</th>\n",
       "      <td>0.8770</td>\n",
       "      <td>0.9306</td>\n",
       "      <td>9.069226</td>\n",
       "      <td>1</td>\n",
       "      <td>0.01</td>\n",
       "      <td>0.25</td>\n",
       "      <td>0.03</td>\n",
       "      <td>0.85</td>\n",
       "      <td>0.17</td>\n",
       "      <td>4.5</td>\n",
       "      <td>1.25</td>\n",
       "    </tr>\n",
       "    <tr>\n",
       "      <th>13</th>\n",
       "      <td>0.8770</td>\n",
       "      <td>0.9306</td>\n",
       "      <td>9.069226</td>\n",
       "      <td>1</td>\n",
       "      <td>0.01</td>\n",
       "      <td>0.25</td>\n",
       "      <td>0.03</td>\n",
       "      <td>0.85</td>\n",
       "      <td>0.17</td>\n",
       "      <td>4.5</td>\n",
       "      <td>1.25</td>\n",
       "    </tr>\n",
       "    <tr>\n",
       "      <th>12</th>\n",
       "      <td>0.8768</td>\n",
       "      <td>0.9305</td>\n",
       "      <td>9.069226</td>\n",
       "      <td>1</td>\n",
       "      <td>0.01</td>\n",
       "      <td>0.25</td>\n",
       "      <td>0.03</td>\n",
       "      <td>0.85</td>\n",
       "      <td>0.15</td>\n",
       "      <td>4.5</td>\n",
       "      <td>1.25</td>\n",
       "    </tr>\n",
       "  </tbody>\n",
       "</table>\n",
       "</div>"
      ],
      "text/plain": [
       "    AUC_test  AUC_train         i  j     k     l     m     n     p    q     r\n",
       "16    0.8770     0.9306  9.069226  1  0.01  0.25  0.03  0.85  0.17  4.5  1.25\n",
       "15    0.8770     0.9306  9.069226  1  0.01  0.25  0.03  0.85  0.17  5.0  1.25\n",
       "14    0.8770     0.9306  9.069226  1  0.01  0.25  0.03  0.85  0.17  4.5  1.25\n",
       "13    0.8770     0.9306  9.069226  1  0.01  0.25  0.03  0.85  0.17  4.5  1.25\n",
       "12    0.8768     0.9305  9.069226  1  0.01  0.25  0.03  0.85  0.15  4.5  1.25"
      ]
     },
     "execution_count": 55,
     "metadata": {},
     "output_type": "execute_result"
    }
   ],
   "source": [
    "results_table.sort_values('AUC_test', ascending=False)[:5]"
   ]
  },
  {
   "cell_type": "markdown",
   "metadata": {},
   "source": [
    "### Feature Importance"
   ]
  },
  {
   "cell_type": "code",
   "execution_count": 56,
   "metadata": {
    "scrolled": true
   },
   "outputs": [
    {
     "name": "stdout",
     "output_type": "stream",
     "text": [
      "[0]\ttrain-auc:0.523118\tvalid_data-auc:0.5027\n",
      "Multiple eval metrics have been passed: 'valid_data-auc' will be used for early stopping.\n",
      "\n",
      "Will train until valid_data-auc hasn't improved in 400 rounds.\n",
      "[100]\ttrain-auc:0.815857\tvalid_data-auc:0.774414\n",
      "[200]\ttrain-auc:0.836982\tvalid_data-auc:0.798774\n",
      "[300]\ttrain-auc:0.853157\tvalid_data-auc:0.816711\n",
      "[400]\ttrain-auc:0.862409\tvalid_data-auc:0.827373\n",
      "[500]\ttrain-auc:0.868691\tvalid_data-auc:0.832355\n",
      "[600]\ttrain-auc:0.87444\tvalid_data-auc:0.839013\n",
      "[700]\ttrain-auc:0.878437\tvalid_data-auc:0.843629\n",
      "[800]\ttrain-auc:0.879829\tvalid_data-auc:0.844507\n",
      "[900]\ttrain-auc:0.880981\tvalid_data-auc:0.848321\n",
      "[1000]\ttrain-auc:0.883988\tvalid_data-auc:0.849679\n",
      "[1100]\ttrain-auc:0.886454\tvalid_data-auc:0.852269\n",
      "[1200]\ttrain-auc:0.888117\tvalid_data-auc:0.854244\n",
      "[1300]\ttrain-auc:0.890251\tvalid_data-auc:0.856348\n",
      "[1400]\ttrain-auc:0.892\tvalid_data-auc:0.856361\n",
      "[1500]\ttrain-auc:0.894451\tvalid_data-auc:0.857568\n",
      "[1600]\ttrain-auc:0.896104\tvalid_data-auc:0.85853\n",
      "[1700]\ttrain-auc:0.897261\tvalid_data-auc:0.859385\n",
      "[1800]\ttrain-auc:0.898909\tvalid_data-auc:0.859865\n",
      "[1900]\ttrain-auc:0.899744\tvalid_data-auc:0.860884\n",
      "[2000]\ttrain-auc:0.900098\tvalid_data-auc:0.861592\n",
      "[2100]\ttrain-auc:0.901533\tvalid_data-auc:0.862302\n",
      "[2200]\ttrain-auc:0.902906\tvalid_data-auc:0.863309\n",
      "[2300]\ttrain-auc:0.903677\tvalid_data-auc:0.864203\n",
      "[2400]\ttrain-auc:0.904869\tvalid_data-auc:0.864254\n",
      "[2500]\ttrain-auc:0.905882\tvalid_data-auc:0.864969\n",
      "[2600]\ttrain-auc:0.90697\tvalid_data-auc:0.865363\n",
      "[2700]\ttrain-auc:0.907814\tvalid_data-auc:0.865313\n",
      "[2800]\ttrain-auc:0.908937\tvalid_data-auc:0.865245\n",
      "[2900]\ttrain-auc:0.909507\tvalid_data-auc:0.866435\n",
      "[3000]\ttrain-auc:0.910392\tvalid_data-auc:0.866648\n",
      "[3100]\ttrain-auc:0.911234\tvalid_data-auc:0.867001\n",
      "[3200]\ttrain-auc:0.912353\tvalid_data-auc:0.868016\n",
      "[3300]\ttrain-auc:0.912908\tvalid_data-auc:0.868243\n",
      "[3400]\ttrain-auc:0.913951\tvalid_data-auc:0.868701\n",
      "[3500]\ttrain-auc:0.914642\tvalid_data-auc:0.869227\n",
      "[3600]\ttrain-auc:0.915805\tvalid_data-auc:0.869655\n",
      "[3700]\ttrain-auc:0.916723\tvalid_data-auc:0.8711\n",
      "[3800]\ttrain-auc:0.917682\tvalid_data-auc:0.871746\n",
      "[3900]\ttrain-auc:0.918327\tvalid_data-auc:0.872022\n",
      "[4000]\ttrain-auc:0.918959\tvalid_data-auc:0.872507\n",
      "[4100]\ttrain-auc:0.919672\tvalid_data-auc:0.872451\n",
      "[4200]\ttrain-auc:0.920117\tvalid_data-auc:0.873131\n",
      "[4300]\ttrain-auc:0.920225\tvalid_data-auc:0.873318\n",
      "[4400]\ttrain-auc:0.920674\tvalid_data-auc:0.87359\n",
      "[4500]\ttrain-auc:0.921489\tvalid_data-auc:0.873757\n",
      "[4600]\ttrain-auc:0.922028\tvalid_data-auc:0.87376\n",
      "[4700]\ttrain-auc:0.922598\tvalid_data-auc:0.87429\n",
      "[4800]\ttrain-auc:0.923017\tvalid_data-auc:0.874666\n",
      "[4900]\ttrain-auc:0.923288\tvalid_data-auc:0.874884\n",
      "[5000]\ttrain-auc:0.923659\tvalid_data-auc:0.875158\n",
      "[5100]\ttrain-auc:0.924183\tvalid_data-auc:0.875108\n",
      "[5200]\ttrain-auc:0.924712\tvalid_data-auc:0.875465\n",
      "[5300]\ttrain-auc:0.925225\tvalid_data-auc:0.875932\n",
      "[5400]\ttrain-auc:0.925569\tvalid_data-auc:0.876124\n",
      "[5500]\ttrain-auc:0.926177\tvalid_data-auc:0.876554\n",
      "[5600]\ttrain-auc:0.926643\tvalid_data-auc:0.876037\n",
      "[5700]\ttrain-auc:0.927264\tvalid_data-auc:0.876219\n",
      "[5800]\ttrain-auc:0.927622\tvalid_data-auc:0.876519\n",
      "[5900]\ttrain-auc:0.928116\tvalid_data-auc:0.876536\n",
      "[6000]\ttrain-auc:0.928639\tvalid_data-auc:0.876325\n",
      "[6100]\ttrain-auc:0.929116\tvalid_data-auc:0.877077\n",
      "[6200]\ttrain-auc:0.929665\tvalid_data-auc:0.877155\n",
      "[6300]\ttrain-auc:0.930077\tvalid_data-auc:0.877154\n",
      "[6400]\ttrain-auc:0.930476\tvalid_data-auc:0.876886\n",
      "[6500]\ttrain-auc:0.930924\tvalid_data-auc:0.877144\n",
      "[6600]\ttrain-auc:0.931352\tvalid_data-auc:0.877595\n",
      "[6700]\ttrain-auc:0.931717\tvalid_data-auc:0.877421\n",
      "[6800]\ttrain-auc:0.932078\tvalid_data-auc:0.877751\n",
      "[6900]\ttrain-auc:0.932417\tvalid_data-auc:0.877801\n",
      "[7000]\ttrain-auc:0.932724\tvalid_data-auc:0.877745\n",
      "[7100]\ttrain-auc:0.933156\tvalid_data-auc:0.878185\n",
      "[7200]\ttrain-auc:0.933466\tvalid_data-auc:0.878569\n",
      "[7300]\ttrain-auc:0.933858\tvalid_data-auc:0.878944\n",
      "[7400]\ttrain-auc:0.934177\tvalid_data-auc:0.878902\n",
      "[7500]\ttrain-auc:0.934515\tvalid_data-auc:0.879\n",
      "[7600]\ttrain-auc:0.934633\tvalid_data-auc:0.879191\n",
      "[7700]\ttrain-auc:0.934933\tvalid_data-auc:0.87926\n",
      "[7800]\ttrain-auc:0.935341\tvalid_data-auc:0.879604\n",
      "[7900]\ttrain-auc:0.93569\tvalid_data-auc:0.8797\n",
      "[8000]\ttrain-auc:0.935976\tvalid_data-auc:0.879695\n",
      "[8100]\ttrain-auc:0.936308\tvalid_data-auc:0.879377\n",
      "[8200]\ttrain-auc:0.93664\tvalid_data-auc:0.87949\n",
      "[8300]\ttrain-auc:0.93693\tvalid_data-auc:0.879422\n",
      "Stopping. Best iteration:\n",
      "[7979]\ttrain-auc:0.935933\tvalid_data-auc:0.879864\n",
      "\n"
     ]
    }
   ],
   "source": [
    "params_op_1 = {\n",
    "    'scale_pos_weight': 1/spw, # difference between the positive and negative classes\n",
    "    'max_depth': 1,\n",
    "    'eta': 0.02, #Learning rate\n",
    "    'subsample': 0.25,  #Reduces overfitting, range 0-1, 0.5-0.5 would be 50% training data\n",
    "    'colsample_bytree': 0.03, # range 0-1\n",
    "    'lambda': 0.75, # L2 regularisation term on weights - Ridge\n",
    "    'alpha': 0.15, # L1 regularisation term on weights - Lasso\n",
    "    'min_child_weight': 4.5, # range 0-inf,\n",
    "    'max_delta_step': 1.25, # range 0-inf, useful in highly imbalance class sets\n",
    "    'objective': 'binary:logistic', # model type\n",
    "    'eval_metric': 'auc', # evaulation type\n",
    "    'verbosity': 0, #printing of messages 0 (silent), 1 (warning), 2 (info), 3 (debug)\n",
    "    'silent': True #Depricated use verbosity - although does stop lots of messages\n",
    "            }\n",
    "model_op_1 = xgb.train(\n",
    "    dtrain=train_data,\n",
    "    num_boost_round=10000,\n",
    "    evals=watchlist,\n",
    "    early_stopping_rounds=400,\n",
    "    verbose_eval=100,\n",
    "    params=params_op_1)"
   ]
  },
  {
   "cell_type": "code",
   "execution_count": 60,
   "metadata": {
    "scrolled": false
   },
   "outputs": [
    {
     "data": {
      "image/png": "[encoded data removed]",
      "text/plain": [
       "<Figure size 720x1800 with 1 Axes>"
      ]
     },
     "metadata": {
      "needs_background": "light"
     },
     "output_type": "display_data"
    }
   ],
   "source": [
    "import operator\n",
    "feature_importance = model_op_1.get_score(importance_type='gain')\n",
    "feature_importance = sorted(feature_importance.items(), key=operator.itemgetter(1))\n",
    "feature_importance = pd.DataFrame(feature_importance)\n",
    "plt.figure(figsize=(10,25))\n",
    "plt.barh(feature_importance[0], feature_importance[1], color='g')\n",
    "plt.show()"
   ]
  },
  {
   "cell_type": "markdown",
   "metadata": {},
   "source": [
    "The five most important features in this model are shown in the table below"
   ]
  },
  {
   "cell_type": "code",
   "execution_count": 64,
   "metadata": {
    "scrolled": true
   },
   "outputs": [
    {
     "data": {
      "text/html": [
       "<div>\n",
       "<style scoped>\n",
       "    .dataframe tbody tr th:only-of-type {\n",
       "        vertical-align: middle;\n",
       "    }\n",
       "\n",
       "    .dataframe tbody tr th {\n",
       "        vertical-align: top;\n",
       "    }\n",
       "\n",
       "    .dataframe thead th {\n",
       "        text-align: right;\n",
       "    }\n",
       "</style>\n",
       "<table border=\"1\" class=\"dataframe\">\n",
       "  <thead>\n",
       "    <tr style=\"text-align: right;\">\n",
       "      <th></th>\n",
       "      <th>Feature</th>\n",
       "      <th>Importance</th>\n",
       "    </tr>\n",
       "  </thead>\n",
       "  <tbody>\n",
       "    <tr>\n",
       "      <th>195</th>\n",
       "      <td>f21</td>\n",
       "      <td>67.939088</td>\n",
       "    </tr>\n",
       "    <tr>\n",
       "      <th>196</th>\n",
       "      <td>f110</td>\n",
       "      <td>70.389316</td>\n",
       "    </tr>\n",
       "    <tr>\n",
       "      <th>197</th>\n",
       "      <td>f146</td>\n",
       "      <td>71.586454</td>\n",
       "    </tr>\n",
       "    <tr>\n",
       "      <th>198</th>\n",
       "      <td>f139</td>\n",
       "      <td>74.283726</td>\n",
       "    </tr>\n",
       "    <tr>\n",
       "      <th>199</th>\n",
       "      <td>f81</td>\n",
       "      <td>78.824313</td>\n",
       "    </tr>\n",
       "  </tbody>\n",
       "</table>\n",
       "</div>"
      ],
      "text/plain": [
       "    Feature  Importance\n",
       "195     f21   67.939088\n",
       "196    f110   70.389316\n",
       "197    f146   71.586454\n",
       "198    f139   74.283726\n",
       "199     f81   78.824313"
      ]
     },
     "execution_count": 64,
     "metadata": {},
     "output_type": "execute_result"
    }
   ],
   "source": [
    "feature_importance.columns = ['Feature', 'Importance']\n",
    "feature_importance.tail(5)"
   ]
  },
  {
   "cell_type": "markdown",
   "metadata": {},
   "source": [
    "Feature engineering is not taking place in this project."
   ]
  },
  {
   "cell_type": "markdown",
   "metadata": {},
   "source": [
    "### Final parameter selection"
   ]
  },
  {
   "cell_type": "code",
   "execution_count": null,
   "metadata": {},
   "outputs": [],
   "source": [
    "'scale_pos_weight': 1/spw, # difference between the positive and negative classes\n",
    "'max_depth': 1,\n",
    "'eta': 0.02, #Learning rate\n",
    "'subsample': 0.25,  #Reduces overfitting, range 0-1, 0.5-0.5 would be 50% training data\n",
    "'colsample_bytree': 0.03, # range 0-1\n",
    "'lambda': 0.75, # L2 regularisation term on weights - Ridge\n",
    "'alpha': 0.15, # L1 regularisation term on weights - Lasso\n",
    "'min_child_weight': 4.5, # range 0-inf,\n",
    "'max_delta_step': 1.25, # range 0-inf, useful in highly imbalance class sets\n",
    "'objective': 'binary:logistic', # model type\n",
    "'eval_metric': 'auc', # evaulation type\n",
    "'verbosity': 0, #printing of messages 0 (silent), 1 (warning), 2 (info), 3 (debug)\n",
    "'silent': True #Depricated use verbosity - although does stop lots of messages"
   ]
  },
  {
   "cell_type": "markdown",
   "metadata": {},
   "source": [
    "### Generating prediction for submision\n",
    "\n",
    "The following code will be run on the AWS instance, this will train a model on the entire train dataset and then fit the test dataset generating a submission csv file ready to be submitted to the Kaggle page for evaluation. "
   ]
  },
  {
   "cell_type": "code",
   "execution_count": null,
   "metadata": {},
   "outputs": [],
   "source": [
    "import pandas as pd\n",
    "import numpy as np\n",
    "from sklearn.preprocessing import StandardScaler, QuantileTransformer\n",
    "import xgboost as xgb\n",
    "from sklearn.metrics import roc_curve, auc\n",
    "import gc\n",
    "from sklearn.model_selection import train_test_split\n",
    "\n",
    "\n",
    "\n",
    "df = pd.read_csv('train.csv.zip', index_col = 'ID_code')\n",
    "\n",
    "sc = StandardScaler()\n",
    "X_scaled = sc.fit_transform(df.drop('target',axis=1))\n",
    "X_scaled = pd.DataFrame(X_scaled)\n",
    "X_scaled.columns = df.drop('target',axis=1).columns\n",
    "\n",
    "qt = QuantileTransformer(output_distribution='normal')\n",
    "X_quant = qt.fit_transform(X_scaled)\n",
    "X_quant = qt.transform(X_quant)\n",
    "X_train, X_test, y_train, y_test = train_test_split(X_quant, df.target, random_state=100, test_size=0.2)\n",
    "\n",
    "train_data = xgb.DMatrix(data=X_train, label=y_train)\n",
    "valid_data = xgb.DMatrix(data=X_test, label=y_test)\n",
    "watchlist = [(train_data, 'train'), (valid_data, 'valid_data')]\n",
    "\n",
    "spw = float(len(df.target[df.target == 1])) / float(len(df.target[df.target == 0]))\n",
    "\n",
    "model_params = {\n",
    "        'scale_pos_weight': 1/spw, # difference between the positive and negative classes\n",
    "        'max_depth': 1,\n",
    "        'eta': 0.02, #Learning rate\n",
    "        'subsample': 0.29,  #Reduces overfitting, range 0-1, 0.5-0.5 would be 50% training data\n",
    "        'colsample_bytree': 0.04, # range 0-1\n",
    "        'lambda': 0.57, # L2 regularisation term on weights - Ridge\n",
    "        'alpha': 0.08, # L1 regularisation term on weights - Lasso\n",
    "        'min_child_weight': 5.45, # range 0-inf,\n",
    "        'max_delta_step': 1.25, # range 0-inf, useful in highly imbalance class sets\n",
    "        'objective': 'binary:logistic', # model type\n",
    "        'eval_metric': 'auc', # evaulation type\n",
    "        'verbosity': 0, #printing of messages 0 (silent), 1 (warning), 2 (info), 3 (debug)\n",
    "        'silent': True #Depricated use verbosity - although does stop lots of messages\n",
    "    }\n",
    "tr_model = xgb.train(\n",
    "    dtrain=train_data,\n",
    "    num_boost_round=10000,\n",
    "    evals=watchlist,\n",
    "    early_stopping_rounds=400,\n",
    "    verbose_eval=100,\n",
    "    params=model_params)\n",
    "\n",
    "y_pred_train = tr_model.predict(xgb.DMatrix(X_train), ntree_limit=tr_model.best_ntree_limit)\n",
    "\n",
    "df_sub = pd.read_csv('test.csv.zip', index_col = 'ID_code')\n",
    "\n",
    "sc = StandardScaler()\n",
    "X_scaled_sub = sc.fit_transform(df_sub)\n",
    "X_scaled_sub = pd.DataFrame(X_scaled_sub)\n",
    "X_scaled_sub.columns = df_sub.columns\n",
    "\n",
    "qt = QuantileTransformer(output_distribution='normal')\n",
    "X_quant_sub = qt.fit_transform(X_scaled_sub)\n",
    "X_quant_sub = qt.transform(X_quant_sub)\n",
    "\n",
    "y_pred_sub = tr_model.predict(xgb.DMatrix(X_quant_sub), ntree_limit=tr_model.best_ntree_limit)\n",
    "\n",
    "\n",
    "pd.DataFrame(y_pred_sub).to_csv('submission.csv')\n"
   ]
  },
  {
   "cell_type": "markdown",
   "metadata": {},
   "source": [
    "# Interpret"
   ]
  },
  {
   "cell_type": "markdown",
   "metadata": {},
   "source": [
    "The problem evaluated in this project is abstract; there is not a particularly clear link between the dataset a reality. As a result the only substantial interpretation that can be completed is the comparision of the AUC between different models. "
   ]
  },
  {
   "cell_type": "markdown",
   "metadata": {},
   "source": [
    "# Further Work\n",
    "The model may be able to be improved through feature optimisation and also conducting PCA."
   ]
  },
  {
   "cell_type": "markdown",
   "metadata": {},
   "source": [
    "### Example code of running a grid search"
   ]
  },
  {
   "cell_type": "code",
   "execution_count": null,
   "metadata": {},
   "outputs": [],
   "source": [
    "import numpy as np\n",
    "import pandas as pd\n",
    "from sklearn.model_selection import train_test_split\n",
    "import gc\n",
    "from sklearn.preprocessing import StandardScaler, QuantileTransformer\n",
    "import xgboost as xgb\n",
    "from sklearn.metrics import accuracy_score\n",
    "from sklearn.metrics import roc_curve, auc\n",
    "\n",
    "df = pd.read_csv('sample.csv', index_col = 'ID_code')\n",
    "\n",
    "sc = StandardScaler()\n",
    "X_scaled = sc.fit_transform(df.drop('target',axis=1))\n",
    "X_scaled = pd.DataFrame(X_scaled)\n",
    "X_scaled.columns = df.drop('target',axis=1).columns\n",
    "\n",
    "qt = QuantileTransformer(output_distribution='normal')\n",
    "X_quant = qt.fit_transform(X_scaled)\n",
    "X_quant = qt.transform(X_quant)\n",
    "\n",
    "X_train, X_test, y_train, y_test = train_test_split(X_quant, df.target, random_state=100, test_size=0.2)\n",
    "\n",
    "def AUC(y_train, y_pred_train, y_test, y_pred_test):\n",
    "    fpr, tpr, thresholds = roc_curve(y_train, y_pred_train)\n",
    "    AUC_train = round(auc(fpr, tpr),4)\n",
    "    fpr, tpr, thresholds = roc_curve(y_test, y_pred_test)\n",
    "    AUC_test = round(auc(fpr, tpr),4)\n",
    "    return AUC_train, AUC_test\n",
    "\n",
    "spw = float(len(y_train[y_train == 1])) / float(len(y_train[y_train == 0]))\n",
    "\n",
    "\n",
    "R = [1/spw, 12.7, 12.8, 12.9] # difference between the positive and negative classes\n",
    "I = [0.01, 0.02, 0.03] # learning rate\n",
    "J = [1,2] # max_depth\n",
    "K = [0.25, 0.29, 0.35] # subsample\n",
    "L = [0.03, 0.04, 0.05] # colsample_bytree\n",
    "M = [0.55, 0.57, 0.59] # L2 regularisation term on weights - Ridge\n",
    "N = [0.06, 0.08, 0.1] # L1 regularisation term on weights - Lasso\n",
    "P = [4.5, 5.45, 6.5] # range 0-inf,\n",
    "Q = [1.25, 1.53, 1.75] # range 0-inf, useful in highly imbalance class sets\n",
    "\n",
    "train_data = xgb.DMatrix(data=X_train, label=y_train)\n",
    "valid_data = xgb.DMatrix(data=X_test, label=y_test)\n",
    "watchlist = [(train_data, 'train'), (valid_data, 'valid_data')]\n",
    "results = []\n",
    "for i in I:\n",
    "    for j in J:\n",
    "        for k in K:\n",
    "            for l in L:\n",
    "                for m in M:\n",
    "                    for n in N:\n",
    "                        for p in P:\n",
    "                            for q in Q:\n",
    "                                for r in R:\n",
    "                                    model_params = {\n",
    "                                        'eta': i, #Learning rate\n",
    "                                        'max_depth': j,\n",
    "                                        'subsample': k,  #Reduces overfitting, range 0-1, 0.5-0.5 would be 50% training data\n",
    "                                        'colsample_bytree': l, # range 0-1\n",
    "                                        'lambda': m, # L2 regularisation term on weights - Ridge\n",
    "                                        'alpha': n, # L1 regularisation term on weights - Lasso\n",
    "                                        'min_child_weight': p, # range 0-inf,\n",
    "                                        'max_delta_step': q, # range 0-inf, useful in highly imbalance class sets\n",
    "                                        'scale_pos_weight': r, # difference between the positive and negative classes\n",
    "                                        'objective': 'binary:logistic', # model type\n",
    "                                        'eval_metric': 'auc', # evaulation type\n",
    "                                        'verbosity': 0, #printing of messages 0 (silent), 1 (warning), 2 (info), 3 (debug)\n",
    "                                        'silent': True #Depricated use verbosity - although does stop lots of messages\n",
    "                                            }\n",
    "                                    tr_model = xgb.train(\n",
    "                                        dtrain=train_data,\n",
    "                                        num_boost_round=100000,\n",
    "                                        evals=watchlist,\n",
    "                                        early_stopping_rounds=4000,\n",
    "                                        verbose_eval=2000,\n",
    "                                        params=model_params)\n",
    "                                    y_pred_train = tr_model.predict(xgb.DMatrix(X_train), ntree_limit=tr_model.best_ntree_limit)\n",
    "                                    y_pred_test = tr_model.predict(xgb.DMatrix(X_test), ntree_limit=tr_model.best_ntree_limit)\n",
    "                                    auc_train, auc_test = AUC(y_train, y_pred_train, y_test, y_pred_test)\n",
    "                                    print(' i: '+str(i) + ' j: ' +str(j), ' k: ' +str(k) + ' l:' +str(l), ' m: ' +str(m) + ' n: ' +str(n) +' p: ' +str(p) + ' q: ' +str(q) + ' r: '+str(r) +' AUC Train: ' +str(auc_train)+' AUC Test: ' +str(auc_test))\n",
    "                                    results.append({'i':i, 'j':j, 'k':k, 'l':l, 'm':m, 'n':n, 'p':p, 'q':q, 'r':r, 'AUC_train':auc_train, 'AUC_test': auc_test})\n",
    "\n",
    "pd.DataFrame(results).to_csv('search_results.csv')\n"
   ]
  }
 ],
 "metadata": {
  "kernelspec": {
   "display_name": "learn-env",
   "language": "python",
   "name": "learn-env"
  },
  "language_info": {
   "codemirror_mode": {
    "name": "ipython",
    "version": 3
   },
   "file_extension": ".py",
   "mimetype": "text/x-python",
   "name": "python",
   "nbconvert_exporter": "python",
   "pygments_lexer": "ipython3",
   "version": "3.6.6"
  }
 },
 "nbformat": 4,
 "nbformat_minor": 2
}
